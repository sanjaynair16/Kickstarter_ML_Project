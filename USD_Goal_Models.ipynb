{
 "cells": [
  {
   "cell_type": "code",
   "execution_count": 1,
   "metadata": {},
   "outputs": [],
   "source": [
    "# Import library\n",
    "\n",
    "import pandas as pd \n",
    "import numpy as np\n",
    "import seaborn as sns\n",
    "\n",
    "from xgboost import XGBClassifier\n",
    "from sklearn.linear_model import LogisticRegression\n",
    "from sklearn.ensemble import RandomForestClassifier\n",
    "from sklearn.model_selection import train_test_split, cross_val_score\n",
    "from sklearn.metrics import confusion_matrix, classification_report\n",
    "from sklearn.metrics import accuracy_score, precision_score, recall_score, f1_score\n",
    "from sklearn.model_selection import GridSearchCV"
   ]
  },
  {
   "cell_type": "code",
   "execution_count": 2,
   "metadata": {},
   "outputs": [
    {
     "data": {
      "text/html": [
       "<div>\n",
       "<style scoped>\n",
       "    .dataframe tbody tr th:only-of-type {\n",
       "        vertical-align: middle;\n",
       "    }\n",
       "\n",
       "    .dataframe tbody tr th {\n",
       "        vertical-align: top;\n",
       "    }\n",
       "\n",
       "    .dataframe thead th {\n",
       "        text-align: right;\n",
       "    }\n",
       "</style>\n",
       "<table border=\"1\" class=\"dataframe\">\n",
       "  <thead>\n",
       "    <tr style=\"text-align: right;\">\n",
       "      <th></th>\n",
       "      <th>duration</th>\n",
       "      <th>goal_usd</th>\n",
       "      <th>blurb_length</th>\n",
       "      <th>name_length</th>\n",
       "      <th>success</th>\n",
       "      <th>US based</th>\n",
       "      <th>main_category_comics</th>\n",
       "      <th>main_category_crafts</th>\n",
       "      <th>main_category_dance</th>\n",
       "      <th>main_category_design</th>\n",
       "      <th>...</th>\n",
       "      <th>main_category_games</th>\n",
       "      <th>main_category_journalism</th>\n",
       "      <th>main_category_music</th>\n",
       "      <th>main_category_photography</th>\n",
       "      <th>main_category_publishing</th>\n",
       "      <th>main_category_technology</th>\n",
       "      <th>main_category_theater</th>\n",
       "      <th>start_Q_Q2</th>\n",
       "      <th>start_Q_Q3</th>\n",
       "      <th>start_Q_Q4</th>\n",
       "    </tr>\n",
       "  </thead>\n",
       "  <tbody>\n",
       "    <tr>\n",
       "      <th>0</th>\n",
       "      <td>0.163043</td>\n",
       "      <td>0.000015</td>\n",
       "      <td>0.382353</td>\n",
       "      <td>0.230769</td>\n",
       "      <td>1.0</td>\n",
       "      <td>1.0</td>\n",
       "      <td>0.0</td>\n",
       "      <td>0.0</td>\n",
       "      <td>0.0</td>\n",
       "      <td>0.0</td>\n",
       "      <td>...</td>\n",
       "      <td>1.0</td>\n",
       "      <td>0.0</td>\n",
       "      <td>0.0</td>\n",
       "      <td>0.0</td>\n",
       "      <td>0.0</td>\n",
       "      <td>0.0</td>\n",
       "      <td>0.0</td>\n",
       "      <td>0.0</td>\n",
       "      <td>0.0</td>\n",
       "      <td>1.0</td>\n",
       "    </tr>\n",
       "    <tr>\n",
       "      <th>1</th>\n",
       "      <td>0.315217</td>\n",
       "      <td>0.000030</td>\n",
       "      <td>0.676471</td>\n",
       "      <td>0.269231</td>\n",
       "      <td>1.0</td>\n",
       "      <td>0.0</td>\n",
       "      <td>1.0</td>\n",
       "      <td>0.0</td>\n",
       "      <td>0.0</td>\n",
       "      <td>0.0</td>\n",
       "      <td>...</td>\n",
       "      <td>0.0</td>\n",
       "      <td>0.0</td>\n",
       "      <td>0.0</td>\n",
       "      <td>0.0</td>\n",
       "      <td>0.0</td>\n",
       "      <td>0.0</td>\n",
       "      <td>0.0</td>\n",
       "      <td>0.0</td>\n",
       "      <td>1.0</td>\n",
       "      <td>0.0</td>\n",
       "    </tr>\n",
       "    <tr>\n",
       "      <th>2</th>\n",
       "      <td>0.315217</td>\n",
       "      <td>0.000009</td>\n",
       "      <td>0.588235</td>\n",
       "      <td>0.230769</td>\n",
       "      <td>1.0</td>\n",
       "      <td>1.0</td>\n",
       "      <td>0.0</td>\n",
       "      <td>0.0</td>\n",
       "      <td>0.0</td>\n",
       "      <td>0.0</td>\n",
       "      <td>...</td>\n",
       "      <td>0.0</td>\n",
       "      <td>0.0</td>\n",
       "      <td>0.0</td>\n",
       "      <td>0.0</td>\n",
       "      <td>0.0</td>\n",
       "      <td>0.0</td>\n",
       "      <td>0.0</td>\n",
       "      <td>1.0</td>\n",
       "      <td>0.0</td>\n",
       "      <td>0.0</td>\n",
       "    </tr>\n",
       "    <tr>\n",
       "      <th>3</th>\n",
       "      <td>0.478261</td>\n",
       "      <td>0.000027</td>\n",
       "      <td>0.411765</td>\n",
       "      <td>0.192308</td>\n",
       "      <td>1.0</td>\n",
       "      <td>1.0</td>\n",
       "      <td>0.0</td>\n",
       "      <td>0.0</td>\n",
       "      <td>0.0</td>\n",
       "      <td>0.0</td>\n",
       "      <td>...</td>\n",
       "      <td>0.0</td>\n",
       "      <td>0.0</td>\n",
       "      <td>1.0</td>\n",
       "      <td>0.0</td>\n",
       "      <td>0.0</td>\n",
       "      <td>0.0</td>\n",
       "      <td>0.0</td>\n",
       "      <td>0.0</td>\n",
       "      <td>1.0</td>\n",
       "      <td>0.0</td>\n",
       "    </tr>\n",
       "    <tr>\n",
       "      <th>4</th>\n",
       "      <td>0.641304</td>\n",
       "      <td>0.000232</td>\n",
       "      <td>0.411765</td>\n",
       "      <td>0.115385</td>\n",
       "      <td>1.0</td>\n",
       "      <td>1.0</td>\n",
       "      <td>0.0</td>\n",
       "      <td>0.0</td>\n",
       "      <td>0.0</td>\n",
       "      <td>0.0</td>\n",
       "      <td>...</td>\n",
       "      <td>0.0</td>\n",
       "      <td>0.0</td>\n",
       "      <td>0.0</td>\n",
       "      <td>0.0</td>\n",
       "      <td>0.0</td>\n",
       "      <td>1.0</td>\n",
       "      <td>0.0</td>\n",
       "      <td>0.0</td>\n",
       "      <td>0.0</td>\n",
       "      <td>1.0</td>\n",
       "    </tr>\n",
       "  </tbody>\n",
       "</table>\n",
       "<p>5 rows × 23 columns</p>\n",
       "</div>"
      ],
      "text/plain": [
       "   duration  goal_usd  blurb_length  name_length  success  US based  \\\n",
       "0  0.163043  0.000015      0.382353     0.230769      1.0       1.0   \n",
       "1  0.315217  0.000030      0.676471     0.269231      1.0       0.0   \n",
       "2  0.315217  0.000009      0.588235     0.230769      1.0       1.0   \n",
       "3  0.478261  0.000027      0.411765     0.192308      1.0       1.0   \n",
       "4  0.641304  0.000232      0.411765     0.115385      1.0       1.0   \n",
       "\n",
       "   main_category_comics  main_category_crafts  main_category_dance  \\\n",
       "0                   0.0                   0.0                  0.0   \n",
       "1                   1.0                   0.0                  0.0   \n",
       "2                   0.0                   0.0                  0.0   \n",
       "3                   0.0                   0.0                  0.0   \n",
       "4                   0.0                   0.0                  0.0   \n",
       "\n",
       "   main_category_design  ...  main_category_games  main_category_journalism  \\\n",
       "0                   0.0  ...                  1.0                       0.0   \n",
       "1                   0.0  ...                  0.0                       0.0   \n",
       "2                   0.0  ...                  0.0                       0.0   \n",
       "3                   0.0  ...                  0.0                       0.0   \n",
       "4                   0.0  ...                  0.0                       0.0   \n",
       "\n",
       "   main_category_music  main_category_photography  main_category_publishing  \\\n",
       "0                  0.0                        0.0                       0.0   \n",
       "1                  0.0                        0.0                       0.0   \n",
       "2                  0.0                        0.0                       0.0   \n",
       "3                  1.0                        0.0                       0.0   \n",
       "4                  0.0                        0.0                       0.0   \n",
       "\n",
       "   main_category_technology  main_category_theater  start_Q_Q2  start_Q_Q3  \\\n",
       "0                       0.0                    0.0         0.0         0.0   \n",
       "1                       0.0                    0.0         0.0         1.0   \n",
       "2                       0.0                    0.0         1.0         0.0   \n",
       "3                       0.0                    0.0         0.0         1.0   \n",
       "4                       1.0                    0.0         0.0         0.0   \n",
       "\n",
       "   start_Q_Q4  \n",
       "0         1.0  \n",
       "1         0.0  \n",
       "2         0.0  \n",
       "3         0.0  \n",
       "4         1.0  \n",
       "\n",
       "[5 rows x 23 columns]"
      ]
     },
     "execution_count": 2,
     "metadata": {},
     "output_type": "execute_result"
    }
   ],
   "source": [
    "df = pd.read_csv('./data/processed_data(by_quarter).csv')\n",
    "df.drop(['Unnamed: 0', \"usd_pledged\"], axis = 1, inplace = True)\n",
    "df.head()"
   ]
  },
  {
   "cell_type": "code",
   "execution_count": 3,
   "metadata": {},
   "outputs": [],
   "source": [
    "## Define function for performance result\n",
    "\n",
    "# Function to print KFold Cross validation performance on train set \n",
    "def KFoldresult_5fold(model, x_train, y_train, is_logreg):\n",
    "    accuracy = cross_val_score (model, x_train,y_train, cv=5)\n",
    "    print (model)\n",
    "    print (f'KFolds cross validation: \\n {accuracy} \\n')\n",
    "    print (f'Mean accuracy: \\n {accuracy.mean()}\\n')\n",
    "    print ('Coefficient of feature: \\n' )\n",
    "    if is_logreg:\n",
    "        for index, co in enumerate(model.coef_[0]):\n",
    "            print (f'Feature {index}: {co:.5f}')\n",
    "    else:\n",
    "        for index, co in enumerate(model.feature_importances_):\n",
    "            print (f'Feature {index}: {co:.5f}')\n",
    "    return accuracy\n",
    "\n",
    "# Function to return prediction and print prediction result on test set \n",
    "def predictionresult(model, x_test, y_test):\n",
    "    y_pred = model.predict(x_test)\n",
    "    print (f'Confusion_matrix: \\n {confusion_matrix(y_test, y_pred)} \\n')\n",
    "    print (f'Classification report: \\n {classification_report(y_test,y_pred)} \\n')\n",
    "    return y_pred\n",
    "\n",
    "# Function to print out Grid Search parameters: \n",
    "def gridsearch(model, parameters, X_train, y_train):\n",
    "    search = GridSearchCV(model, parameters, n_jobs=-1)\n",
    "    search.fit(x_train,y_train)\n",
    "    print(f'Parameter tested: {parameters}')\n",
    "    print(f'Best Score : {search.best_score_}')\n",
    "    print(f'Best parameters: {search.best_params_}')\n",
    "    return search\n",
    "\n",
    "def performace(y_ture, y_pred):\n",
    "    return [accuracy_score(y_ture, y_pred), recall_score(y_ture, y_pred), precision_score(y_ture, y_pred), f1_score(y_ture, y_pred)]"
   ]
  },
  {
   "cell_type": "code",
   "execution_count": 4,
   "metadata": {},
   "outputs": [],
   "source": [
    "# Split train set and test set \n",
    "y = df['success']\n",
    "x = df.drop('success',axis=1)\n",
    "x_train, x_test, y_train, y_test = train_test_split(x,y,train_size = 0.8, random_state = 42) #shuffle = False that means no random "
   ]
  },
  {
   "cell_type": "markdown",
   "metadata": {},
   "source": [
    "## Logistic Regression (log)\n",
    "#### -Develop model"
   ]
  },
  {
   "cell_type": "code",
   "execution_count": 5,
   "metadata": {},
   "outputs": [
    {
     "name": "stdout",
     "output_type": "stream",
     "text": [
      "LogisticRegression()\n",
      "KFolds cross validation: \n",
      " [0.6541714  0.6577223  0.65995534 0.66555625 0.65708742] \n",
      "\n",
      "Mean accuracy: \n",
      " 0.658898540011138\n",
      "\n",
      "Coefficient of feature: \n",
      "\n",
      "Feature 0: -2.33870\n",
      "Feature 1: -7.30428\n",
      "Feature 2: -0.69410\n",
      "Feature 3: 3.07711\n",
      "Feature 4: 0.12142\n",
      "Feature 5: 1.15119\n",
      "Feature 6: -0.56764\n",
      "Feature 7: 1.15936\n",
      "Feature 8: 0.20551\n",
      "Feature 9: -0.11058\n",
      "Feature 10: 0.20994\n",
      "Feature 11: -1.09012\n",
      "Feature 12: 0.16395\n",
      "Feature 13: -1.04273\n",
      "Feature 14: 0.45077\n",
      "Feature 15: -0.52420\n",
      "Feature 16: 0.55926\n",
      "Feature 17: -0.85593\n",
      "Feature 18: 0.31217\n",
      "Feature 19: -0.02090\n",
      "Feature 20: -0.12587\n",
      "Feature 21: -0.00681\n"
     ]
    },
    {
     "data": {
      "text/plain": [
       "array([0.6541714 , 0.6577223 , 0.65995534, 0.66555625, 0.65708742])"
      ]
     },
     "execution_count": 5,
     "metadata": {},
     "output_type": "execute_result"
    }
   ],
   "source": [
    "# Create model -log\n",
    "log = LogisticRegression()\n",
    "log.fit (x_train,y_train)\n",
    "\n",
    "KFoldresult_5fold(log, x_train, y_train, True)"
   ]
  },
  {
   "cell_type": "code",
   "execution_count": 6,
   "metadata": {},
   "outputs": [
    {
     "name": "stdout",
     "output_type": "stream",
     "text": [
      "Confusion_matrix: \n",
      " [[ 7384  7518]\n",
      " [ 4093 15151]] \n",
      "\n",
      "Classification report: \n",
      "               precision    recall  f1-score   support\n",
      "\n",
      "         0.0       0.64      0.50      0.56     14902\n",
      "         1.0       0.67      0.79      0.72     19244\n",
      "\n",
      "    accuracy                           0.66     34146\n",
      "   macro avg       0.66      0.64      0.64     34146\n",
      "weighted avg       0.66      0.66      0.65     34146\n",
      " \n",
      "\n"
     ]
    }
   ],
   "source": [
    "log_y_predict = predictionresult(log, x_test, y_test)"
   ]
  },
  {
   "cell_type": "markdown",
   "metadata": {},
   "source": [
    "#### -Optimizing hyperparameters"
   ]
  },
  {
   "cell_type": "code",
   "execution_count": 7,
   "metadata": {},
   "outputs": [
    {
     "name": "stdout",
     "output_type": "stream",
     "text": [
      "Parameter tested: {'C': array([0.1, 0.2, 0.3, 0.4, 0.5, 0.6, 0.7, 0.8, 0.9, 1. ]), 'penalty': ['l1', 'l2']}\n",
      "Best Score : 0.658898540011138\n",
      "Best parameters: {'C': 1.0, 'penalty': 'l2'}\n"
     ]
    },
    {
     "data": {
      "text/plain": [
       "GridSearchCV(estimator=LogisticRegression(), n_jobs=-1,\n",
       "             param_grid={'C': array([0.1, 0.2, 0.3, 0.4, 0.5, 0.6, 0.7, 0.8, 0.9, 1. ]),\n",
       "                         'penalty': ['l1', 'l2']})"
      ]
     },
     "execution_count": 7,
     "metadata": {},
     "output_type": "execute_result"
    }
   ],
   "source": [
    "param = {'C':np.linspace(0.1,1,10), 'penalty': ['l1', 'l2']} \n",
    "gridsearch (log, param, x_train, y_train)"
   ]
  },
  {
   "cell_type": "markdown",
   "metadata": {},
   "source": [
    "#### Apply the best parameters {'C': 1.0, 'penalty': 'l2'} \n",
    " - best parameters is same as default parameters for model 'log'"
   ]
  },
  {
   "cell_type": "markdown",
   "metadata": {},
   "source": [
    "## Random Forest Classifier (ranforest)\n",
    "#### -Develop model "
   ]
  },
  {
   "cell_type": "code",
   "execution_count": 8,
   "metadata": {},
   "outputs": [
    {
     "name": "stdout",
     "output_type": "stream",
     "text": [
      "RandomForestClassifier(n_jobs=-1, random_state=42)\n",
      "KFolds cross validation: \n",
      " [0.66749643 0.66819197 0.67229198 0.67104733 0.66916825] \n",
      "\n",
      "Mean accuracy: \n",
      " 0.6696391929439767\n",
      "\n",
      "Coefficient of feature: \n",
      "\n",
      "Feature 0: 0.15751\n",
      "Feature 1: 0.33374\n",
      "Feature 2: 0.21646\n",
      "Feature 3: 0.12619\n",
      "Feature 4: 0.01699\n",
      "Feature 5: 0.00754\n",
      "Feature 6: 0.00523\n",
      "Feature 7: 0.00407\n",
      "Feature 8: 0.00489\n",
      "Feature 9: 0.00527\n",
      "Feature 10: 0.00791\n",
      "Feature 11: 0.01849\n",
      "Feature 12: 0.00635\n",
      "Feature 13: 0.00690\n",
      "Feature 14: 0.00812\n",
      "Feature 15: 0.00569\n",
      "Feature 16: 0.00724\n",
      "Feature 17: 0.01485\n",
      "Feature 18: 0.00424\n",
      "Feature 19: 0.01429\n",
      "Feature 20: 0.01383\n",
      "Feature 21: 0.01420\n"
     ]
    },
    {
     "data": {
      "text/plain": [
       "array([0.66749643, 0.66819197, 0.67229198, 0.67104733, 0.66916825])"
      ]
     },
     "execution_count": 8,
     "metadata": {},
     "output_type": "execute_result"
    }
   ],
   "source": [
    "ranforest = RandomForestClassifier(random_state = 42, n_jobs=-1)\n",
    "ranforest.fit (x_train,y_train)\n",
    "\n",
    "KFoldresult_5fold(ranforest, x_train, y_train, False)"
   ]
  },
  {
   "cell_type": "code",
   "execution_count": 9,
   "metadata": {},
   "outputs": [
    {
     "name": "stdout",
     "output_type": "stream",
     "text": [
      "Confusion_matrix: \n",
      " [[ 8611  6291]\n",
      " [ 4956 14288]] \n",
      "\n",
      "Classification report: \n",
      "               precision    recall  f1-score   support\n",
      "\n",
      "         0.0       0.63      0.58      0.60     14902\n",
      "         1.0       0.69      0.74      0.72     19244\n",
      "\n",
      "    accuracy                           0.67     34146\n",
      "   macro avg       0.66      0.66      0.66     34146\n",
      "weighted avg       0.67      0.67      0.67     34146\n",
      " \n",
      "\n"
     ]
    }
   ],
   "source": [
    "ranforest_y_predict = predictionresult(ranforest, x_test, y_test)"
   ]
  },
  {
   "cell_type": "markdown",
   "metadata": {},
   "source": [
    "#### -Optimizing Hyperparameters"
   ]
  },
  {
   "cell_type": "code",
   "execution_count": 10,
   "metadata": {},
   "outputs": [
    {
     "name": "stdout",
     "output_type": "stream",
     "text": [
      "Parameter tested: {'max_depth': [1, 2, 3, 4]}\n",
      "Best Score : 0.6631816046196805\n",
      "Best parameters: {'max_depth': 4}\n"
     ]
    },
    {
     "data": {
      "text/plain": [
       "GridSearchCV(estimator=RandomForestClassifier(n_jobs=-1, random_state=42),\n",
       "             n_jobs=-1, param_grid={'max_depth': [1, 2, 3, 4]})"
      ]
     },
     "execution_count": 10,
     "metadata": {},
     "output_type": "execute_result"
    }
   ],
   "source": [
    "param = {'max_depth': list(range(1,5))}\n",
    "gridsearch (ranforest, param, x_train, y_train)"
   ]
  },
  {
   "cell_type": "markdown",
   "metadata": {},
   "source": [
    "#### Apply the best parameters {'max_depth': 4}"
   ]
  },
  {
   "cell_type": "code",
   "execution_count": 11,
   "metadata": {},
   "outputs": [
    {
     "name": "stdout",
     "output_type": "stream",
     "text": [
      "RandomForestClassifier(max_depth=4, n_jobs=-1, random_state=42)\n",
      "KFolds cross validation: \n",
      " [0.66284731 0.66672768 0.66401874 0.66284731 0.65946698] \n",
      "\n",
      "Mean accuracy: \n",
      " 0.6631816046196805\n",
      "\n",
      "Coefficient of feature: \n",
      "\n",
      "Feature 0: 0.12609\n",
      "Feature 1: 0.33466\n",
      "Feature 2: 0.00536\n",
      "Feature 3: 0.11160\n",
      "Feature 4: 0.00449\n",
      "Feature 5: 0.03607\n",
      "Feature 6: 0.00517\n",
      "Feature 7: 0.01122\n",
      "Feature 8: 0.00122\n",
      "Feature 9: 0.00004\n",
      "Feature 10: 0.00165\n",
      "Feature 11: 0.15445\n",
      "Feature 12: 0.00207\n",
      "Feature 13: 0.02478\n",
      "Feature 14: 0.02850\n",
      "Feature 15: 0.00669\n",
      "Feature 16: 0.03339\n",
      "Feature 17: 0.11135\n",
      "Feature 18: 0.00030\n",
      "Feature 19: 0.00017\n",
      "Feature 20: 0.00054\n",
      "Feature 21: 0.00018\n",
      "Confusion_matrix: \n",
      " [[ 5897  9005]\n",
      " [ 2432 16812]] \n",
      "\n",
      "Classification report: \n",
      "               precision    recall  f1-score   support\n",
      "\n",
      "         0.0       0.71      0.40      0.51     14902\n",
      "         1.0       0.65      0.87      0.75     19244\n",
      "\n",
      "    accuracy                           0.67     34146\n",
      "   macro avg       0.68      0.63      0.63     34146\n",
      "weighted avg       0.68      0.67      0.64     34146\n",
      " \n",
      "\n"
     ]
    }
   ],
   "source": [
    "ranforest = RandomForestClassifier(max_depth=4, random_state = 42, n_jobs=-1)\n",
    "ranforest.fit (x_train,y_train)\n",
    "\n",
    "KFoldresult_5fold(ranforest, x_train, y_train, False)\n",
    "ranforest_y_predict = predictionresult(ranforest, x_test, y_test)"
   ]
  },
  {
   "cell_type": "markdown",
   "metadata": {},
   "source": [
    "## XG Boost\n",
    "#### -Develop model"
   ]
  },
  {
   "cell_type": "code",
   "execution_count": 12,
   "metadata": {},
   "outputs": [
    {
     "name": "stdout",
     "output_type": "stream",
     "text": [
      "[10:10:53] WARNING: /Users/runner/miniforge3/conda-bld/xgboost_1593723618214/work/src/learner.cc:480: \n",
      "Parameters: { use_label_encoder } might not be used.\n",
      "\n",
      "  This may not be accurate due to some parameters are only used in language bindings but\n",
      "  passed down to XGBoost core.  Or some parameters are not used but slip through this\n",
      "  verification. Please open an issue if you find above cases.\n",
      "\n",
      "\n",
      "[10:11:19] WARNING: /Users/runner/miniforge3/conda-bld/xgboost_1593723618214/work/src/learner.cc:480: \n",
      "Parameters: { use_label_encoder } might not be used.\n",
      "\n",
      "  This may not be accurate due to some parameters are only used in language bindings but\n",
      "  passed down to XGBoost core.  Or some parameters are not used but slip through this\n",
      "  verification. Please open an issue if you find above cases.\n",
      "\n",
      "\n",
      "[10:11:39] WARNING: /Users/runner/miniforge3/conda-bld/xgboost_1593723618214/work/src/learner.cc:480: \n",
      "Parameters: { use_label_encoder } might not be used.\n",
      "\n",
      "  This may not be accurate due to some parameters are only used in language bindings but\n",
      "  passed down to XGBoost core.  Or some parameters are not used but slip through this\n",
      "  verification. Please open an issue if you find above cases.\n",
      "\n",
      "\n",
      "[10:12:02] WARNING: /Users/runner/miniforge3/conda-bld/xgboost_1593723618214/work/src/learner.cc:480: \n",
      "Parameters: { use_label_encoder } might not be used.\n",
      "\n",
      "  This may not be accurate due to some parameters are only used in language bindings but\n",
      "  passed down to XGBoost core.  Or some parameters are not used but slip through this\n",
      "  verification. Please open an issue if you find above cases.\n",
      "\n",
      "\n",
      "[10:12:22] WARNING: /Users/runner/miniforge3/conda-bld/xgboost_1593723618214/work/src/learner.cc:480: \n",
      "Parameters: { use_label_encoder } might not be used.\n",
      "\n",
      "  This may not be accurate due to some parameters are only used in language bindings but\n",
      "  passed down to XGBoost core.  Or some parameters are not used but slip through this\n",
      "  verification. Please open an issue if you find above cases.\n",
      "\n",
      "\n",
      "[10:12:43] WARNING: /Users/runner/miniforge3/conda-bld/xgboost_1593723618214/work/src/learner.cc:480: \n",
      "Parameters: { use_label_encoder } might not be used.\n",
      "\n",
      "  This may not be accurate due to some parameters are only used in language bindings but\n",
      "  passed down to XGBoost core.  Or some parameters are not used but slip through this\n",
      "  verification. Please open an issue if you find above cases.\n",
      "\n",
      "\n",
      "XGBClassifier(base_score=0.5, booster='gbtree', colsample_bylevel=1,\n",
      "              colsample_bynode=1, colsample_bytree=1, eval_metric='mlogloss',\n",
      "              gamma=0, gpu_id=-1, importance_type='gain',\n",
      "              interaction_constraints='', learning_rate=0.300000012,\n",
      "              max_delta_step=0, max_depth=6, min_child_weight=1, missing=nan,\n",
      "              monotone_constraints='()', n_estimators=100, n_jobs=-1,\n",
      "              num_parallel_tree=1, random_state=0, reg_alpha=0, reg_lambda=1,\n",
      "              scale_pos_weight=1, subsample=1, tree_method='exact',\n",
      "              use_label_encoder=False, validate_parameters=1, verbosity=None)\n",
      "KFolds cross validation: \n",
      " [0.69553758 0.70176081 0.70282242 0.69993045 0.69980964] \n",
      "\n",
      "Mean accuracy: \n",
      " 0.699972177103162\n",
      "\n",
      "Coefficient of feature: \n",
      "\n",
      "Feature 0: 0.02781\n",
      "Feature 1: 0.03165\n",
      "Feature 2: 0.00987\n",
      "Feature 3: 0.02537\n",
      "Feature 4: 0.01739\n",
      "Feature 5: 0.09992\n",
      "Feature 6: 0.09088\n",
      "Feature 7: 0.07287\n",
      "Feature 8: 0.02950\n",
      "Feature 9: 0.01234\n",
      "Feature 10: 0.03196\n",
      "Feature 11: 0.12130\n",
      "Feature 12: 0.02518\n",
      "Feature 13: 0.13635\n",
      "Feature 14: 0.03487\n",
      "Feature 15: 0.05381\n",
      "Feature 16: 0.05490\n",
      "Feature 17: 0.08372\n",
      "Feature 18: 0.01891\n",
      "Feature 19: 0.00557\n",
      "Feature 20: 0.00934\n",
      "Feature 21: 0.00648\n"
     ]
    },
    {
     "data": {
      "text/plain": [
       "array([0.69553758, 0.70176081, 0.70282242, 0.69993045, 0.69980964])"
      ]
     },
     "execution_count": 12,
     "metadata": {},
     "output_type": "execute_result"
    }
   ],
   "source": [
    "xgmodel = XGBClassifier(use_label_encoder = False, eval_metric='mlogloss',n_jobs = -1 )\n",
    "xgmodel.fit (x_train,y_train)\n",
    "\n",
    "KFoldresult_5fold(xgmodel, x_train, y_train, False)"
   ]
  },
  {
   "cell_type": "code",
   "execution_count": 13,
   "metadata": {},
   "outputs": [
    {
     "name": "stdout",
     "output_type": "stream",
     "text": [
      "Confusion_matrix: \n",
      " [[ 8385  6517]\n",
      " [ 3721 15523]] \n",
      "\n",
      "Classification report: \n",
      "               precision    recall  f1-score   support\n",
      "\n",
      "         0.0       0.69      0.56      0.62     14902\n",
      "         1.0       0.70      0.81      0.75     19244\n",
      "\n",
      "    accuracy                           0.70     34146\n",
      "   macro avg       0.70      0.68      0.69     34146\n",
      "weighted avg       0.70      0.70      0.69     34146\n",
      " \n",
      "\n"
     ]
    }
   ],
   "source": [
    "xgmodel_y_predict = predictionresult(xgmodel, x_test, y_test)"
   ]
  },
  {
   "cell_type": "markdown",
   "metadata": {},
   "source": [
    "#### -Optimizing Hyperparameters"
   ]
  },
  {
   "cell_type": "code",
   "execution_count": 14,
   "metadata": {},
   "outputs": [
    {
     "name": "stdout",
     "output_type": "stream",
     "text": [
      "[10:14:51] WARNING: /Users/runner/miniforge3/conda-bld/xgboost_1593723618214/work/src/learner.cc:480: \n",
      "Parameters: { use_label_encoder } might not be used.\n",
      "\n",
      "  This may not be accurate due to some parameters are only used in language bindings but\n",
      "  passed down to XGBoost core.  Or some parameters are not used but slip through this\n",
      "  verification. Please open an issue if you find above cases.\n",
      "\n",
      "\n",
      "Parameter tested: {'max_depth': [1, 2, 3, 4]}\n",
      "Best Score : 0.7001112816703223\n",
      "Best parameters: {'max_depth': 4}\n"
     ]
    },
    {
     "data": {
      "text/plain": [
       "GridSearchCV(estimator=XGBClassifier(base_score=0.5, booster='gbtree',\n",
       "                                     colsample_bylevel=1, colsample_bynode=1,\n",
       "                                     colsample_bytree=1, eval_metric='mlogloss',\n",
       "                                     gamma=0, gpu_id=-1, importance_type='gain',\n",
       "                                     interaction_constraints='',\n",
       "                                     learning_rate=0.300000012,\n",
       "                                     max_delta_step=0, max_depth=6,\n",
       "                                     min_child_weight=1, missing=nan,\n",
       "                                     monotone_constraints='()',\n",
       "                                     n_estimators=100, n_jobs=-1,\n",
       "                                     num_parallel_tree=1, random_state=0,\n",
       "                                     reg_alpha=0, reg_lambda=1,\n",
       "                                     scale_pos_weight=1, subsample=1,\n",
       "                                     tree_method='exact',\n",
       "                                     use_label_encoder=False,\n",
       "                                     validate_parameters=1, verbosity=None),\n",
       "             n_jobs=-1, param_grid={'max_depth': [1, 2, 3, 4]})"
      ]
     },
     "execution_count": 14,
     "metadata": {},
     "output_type": "execute_result"
    }
   ],
   "source": [
    "param = {'max_depth': list(range(1,5))}\n",
    "gridsearch (xgmodel, param, x_train, y_train)"
   ]
  },
  {
   "cell_type": "markdown",
   "metadata": {},
   "source": [
    "#### Apply the best parameters {'max_depth': 4}"
   ]
  },
  {
   "cell_type": "code",
   "execution_count": 15,
   "metadata": {},
   "outputs": [
    {
     "name": "stdout",
     "output_type": "stream",
     "text": [
      "[10:15:08] WARNING: /Users/runner/miniforge3/conda-bld/xgboost_1593723618214/work/src/learner.cc:480: \n",
      "Parameters: { use_label_encoder } might not be used.\n",
      "\n",
      "  This may not be accurate due to some parameters are only used in language bindings but\n",
      "  passed down to XGBoost core.  Or some parameters are not used but slip through this\n",
      "  verification. Please open an issue if you find above cases.\n",
      "\n",
      "\n",
      "[10:15:26] WARNING: /Users/runner/miniforge3/conda-bld/xgboost_1593723618214/work/src/learner.cc:480: \n",
      "Parameters: { use_label_encoder } might not be used.\n",
      "\n",
      "  This may not be accurate due to some parameters are only used in language bindings but\n",
      "  passed down to XGBoost core.  Or some parameters are not used but slip through this\n",
      "  verification. Please open an issue if you find above cases.\n",
      "\n",
      "\n",
      "[10:15:39] WARNING: /Users/runner/miniforge3/conda-bld/xgboost_1593723618214/work/src/learner.cc:480: \n",
      "Parameters: { use_label_encoder } might not be used.\n",
      "\n",
      "  This may not be accurate due to some parameters are only used in language bindings but\n",
      "  passed down to XGBoost core.  Or some parameters are not used but slip through this\n",
      "  verification. Please open an issue if you find above cases.\n",
      "\n",
      "\n",
      "[10:15:53] WARNING: /Users/runner/miniforge3/conda-bld/xgboost_1593723618214/work/src/learner.cc:480: \n",
      "Parameters: { use_label_encoder } might not be used.\n",
      "\n",
      "  This may not be accurate due to some parameters are only used in language bindings but\n",
      "  passed down to XGBoost core.  Or some parameters are not used but slip through this\n",
      "  verification. Please open an issue if you find above cases.\n",
      "\n",
      "\n",
      "[10:16:08] WARNING: /Users/runner/miniforge3/conda-bld/xgboost_1593723618214/work/src/learner.cc:480: \n",
      "Parameters: { use_label_encoder } might not be used.\n",
      "\n",
      "  This may not be accurate due to some parameters are only used in language bindings but\n",
      "  passed down to XGBoost core.  Or some parameters are not used but slip through this\n",
      "  verification. Please open an issue if you find above cases.\n",
      "\n",
      "\n",
      "[10:16:23] WARNING: /Users/runner/miniforge3/conda-bld/xgboost_1593723618214/work/src/learner.cc:480: \n",
      "Parameters: { use_label_encoder } might not be used.\n",
      "\n",
      "  This may not be accurate due to some parameters are only used in language bindings but\n",
      "  passed down to XGBoost core.  Or some parameters are not used but slip through this\n",
      "  verification. Please open an issue if you find above cases.\n",
      "\n",
      "\n",
      "XGBClassifier(base_score=0.5, booster='gbtree', colsample_bylevel=1,\n",
      "              colsample_bynode=1, colsample_bytree=1, eval_metric='mlogloss',\n",
      "              gamma=0, gpu_id=-1, importance_type='gain',\n",
      "              interaction_constraints='', learning_rate=0.300000012,\n",
      "              max_delta_step=0, max_depth=4, min_child_weight=1, missing=nan,\n",
      "              monotone_constraints='()', n_estimators=100, n_jobs=-1,\n",
      "              num_parallel_tree=1, random_state=0, reg_alpha=0, reg_lambda=1,\n",
      "              scale_pos_weight=1, subsample=1, tree_method='exact',\n",
      "              use_label_encoder=False, validate_parameters=1, verbosity=None)\n",
      "KFolds cross validation: \n",
      " [0.6971483  0.70110188 0.70036973 0.70252956 0.69940694] \n",
      "\n",
      "Mean accuracy: \n",
      " 0.7001112816703223\n",
      "\n",
      "Coefficient of feature: \n",
      "\n",
      "Feature 0: 0.03619\n",
      "Feature 1: 0.04558\n",
      "Feature 2: 0.01268\n",
      "Feature 3: 0.04397\n",
      "Feature 4: 0.01843\n",
      "Feature 5: 0.07819\n",
      "Feature 6: 0.13476\n",
      "Feature 7: 0.04581\n",
      "Feature 8: 0.01769\n",
      "Feature 9: 0.01069\n",
      "Feature 10: 0.02707\n",
      "Feature 11: 0.13321\n",
      "Feature 12: 0.01497\n",
      "Feature 13: 0.11949\n",
      "Feature 14: 0.03690\n",
      "Feature 15: 0.05445\n",
      "Feature 16: 0.03700\n",
      "Feature 17: 0.10217\n",
      "Feature 18: 0.01181\n",
      "Feature 19: 0.00437\n",
      "Feature 20: 0.01110\n",
      "Feature 21: 0.00349\n"
     ]
    },
    {
     "data": {
      "text/plain": [
       "array([0.6971483 , 0.70110188, 0.70036973, 0.70252956, 0.69940694])"
      ]
     },
     "execution_count": 15,
     "metadata": {},
     "output_type": "execute_result"
    }
   ],
   "source": [
    "xgmodel = XGBClassifier(use_label_encoder = False, eval_metric='mlogloss',n_jobs = -1, max_depth = 4)\n",
    "xgmodel.fit (x_train,y_train)\n",
    "\n",
    "KFoldresult_5fold(xgmodel, x_train, y_train, False)"
   ]
  },
  {
   "cell_type": "code",
   "execution_count": 16,
   "metadata": {},
   "outputs": [
    {
     "name": "stdout",
     "output_type": "stream",
     "text": [
      "Confusion_matrix: \n",
      " [[ 8244  6658]\n",
      " [ 3599 15645]] \n",
      "\n",
      "Classification report: \n",
      "               precision    recall  f1-score   support\n",
      "\n",
      "         0.0       0.70      0.55      0.62     14902\n",
      "         1.0       0.70      0.81      0.75     19244\n",
      "\n",
      "    accuracy                           0.70     34146\n",
      "   macro avg       0.70      0.68      0.68     34146\n",
      "weighted avg       0.70      0.70      0.69     34146\n",
      " \n",
      "\n"
     ]
    }
   ],
   "source": [
    "xgmodel_y_predict = predictionresult(xgmodel, x_test, y_test)"
   ]
  },
  {
   "cell_type": "code",
   "execution_count": 17,
   "metadata": {},
   "outputs": [
    {
     "data": {
      "text/html": [
       "<div>\n",
       "<style scoped>\n",
       "    .dataframe tbody tr th:only-of-type {\n",
       "        vertical-align: middle;\n",
       "    }\n",
       "\n",
       "    .dataframe tbody tr th {\n",
       "        vertical-align: top;\n",
       "    }\n",
       "\n",
       "    .dataframe thead th {\n",
       "        text-align: right;\n",
       "    }\n",
       "</style>\n",
       "<table border=\"1\" class=\"dataframe\">\n",
       "  <thead>\n",
       "    <tr style=\"text-align: right;\">\n",
       "      <th></th>\n",
       "      <th>Logistic Regression</th>\n",
       "      <th>Random Forest Classifier</th>\n",
       "      <th>XGBoost</th>\n",
       "      <th>Best Score</th>\n",
       "    </tr>\n",
       "  </thead>\n",
       "  <tbody>\n",
       "    <tr>\n",
       "      <th>Accuracy</th>\n",
       "      <td>0.659960</td>\n",
       "      <td>0.665056</td>\n",
       "      <td>0.699613</td>\n",
       "      <td>XGBoost</td>\n",
       "    </tr>\n",
       "    <tr>\n",
       "      <th>Recall</th>\n",
       "      <td>0.787310</td>\n",
       "      <td>0.873623</td>\n",
       "      <td>0.812981</td>\n",
       "      <td>Random Forest Classifier</td>\n",
       "    </tr>\n",
       "    <tr>\n",
       "      <th>Precision</th>\n",
       "      <td>0.668358</td>\n",
       "      <td>0.651199</td>\n",
       "      <td>0.701475</td>\n",
       "      <td>XGBoost</td>\n",
       "    </tr>\n",
       "    <tr>\n",
       "      <th>F1 Score</th>\n",
       "      <td>0.722974</td>\n",
       "      <td>0.746189</td>\n",
       "      <td>0.753123</td>\n",
       "      <td>XGBoost</td>\n",
       "    </tr>\n",
       "  </tbody>\n",
       "</table>\n",
       "</div>"
      ],
      "text/plain": [
       "           Logistic Regression  Random Forest Classifier   XGBoost  \\\n",
       "Accuracy              0.659960                  0.665056  0.699613   \n",
       "Recall                0.787310                  0.873623  0.812981   \n",
       "Precision             0.668358                  0.651199  0.701475   \n",
       "F1 Score              0.722974                  0.746189  0.753123   \n",
       "\n",
       "                         Best Score  \n",
       "Accuracy                    XGBoost  \n",
       "Recall     Random Forest Classifier  \n",
       "Precision                   XGBoost  \n",
       "F1 Score                    XGBoost  "
      ]
     },
     "execution_count": 17,
     "metadata": {},
     "output_type": "execute_result"
    }
   ],
   "source": [
    "log_score = performace(y_test, log_y_predict)\n",
    "rf_score = performace(y_test, ranforest_y_predict)\n",
    "xg_score = performace(y_test, xgmodel_y_predict)\n",
    "\n",
    "models_scores_table = pd.DataFrame({'Logistic Regression': log_score, 'Random Forest Classifier': rf_score, 'XGBoost':xg_score},\n",
    "                                    index=['Accuracy', 'Recall', 'Precision', 'F1 Score'])\n",
    "\n",
    "models_scores_table['Best Score'] = models_scores_table.idxmax(axis=1)\n",
    "\n",
    "models_scores_table"
   ]
  },
  {
   "cell_type": "code",
   "execution_count": null,
   "metadata": {},
   "outputs": [],
   "source": []
  }
 ],
 "metadata": {
  "kernelspec": {
   "display_name": "Python 3",
   "language": "python",
   "name": "python3"
  },
  "language_info": {
   "codemirror_mode": {
    "name": "ipython",
    "version": 3
   },
   "file_extension": ".py",
   "mimetype": "text/x-python",
   "name": "python",
   "nbconvert_exporter": "python",
   "pygments_lexer": "ipython3",
   "version": "3.8.3"
  }
 },
 "nbformat": 4,
 "nbformat_minor": 2
}
