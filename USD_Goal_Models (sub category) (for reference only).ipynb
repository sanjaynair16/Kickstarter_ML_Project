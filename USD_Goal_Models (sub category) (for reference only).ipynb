{
 "cells": [
  {
   "cell_type": "code",
   "execution_count": 1,
   "metadata": {},
   "outputs": [],
   "source": [
    "# Import library\n",
    "\n",
    "import pandas as pd \n",
    "import numpy as np\n",
    "import seaborn as sns\n",
    "\n",
    "from xgboost import XGBClassifier\n",
    "from sklearn.linear_model import LogisticRegression\n",
    "from sklearn.ensemble import RandomForestClassifier\n",
    "from sklearn.model_selection import train_test_split, cross_val_score\n",
    "from sklearn.metrics import confusion_matrix, classification_report\n",
    "from sklearn.metrics import accuracy_score, precision_score, recall_score, f1_score\n",
    "from sklearn.model_selection import GridSearchCV"
   ]
  },
  {
   "cell_type": "markdown",
   "metadata": {},
   "source": [
    "## Below cell: read the cleaned up dataframe"
   ]
  },
  {
   "cell_type": "code",
   "execution_count": 2,
   "metadata": {},
   "outputs": [
    {
     "data": {
      "text/html": [
       "<div>\n",
       "<style scoped>\n",
       "    .dataframe tbody tr th:only-of-type {\n",
       "        vertical-align: middle;\n",
       "    }\n",
       "\n",
       "    .dataframe tbody tr th {\n",
       "        vertical-align: top;\n",
       "    }\n",
       "\n",
       "    .dataframe thead th {\n",
       "        text-align: right;\n",
       "    }\n",
       "</style>\n",
       "<table border=\"1\" class=\"dataframe\">\n",
       "  <thead>\n",
       "    <tr style=\"text-align: right;\">\n",
       "      <th></th>\n",
       "      <th>duration</th>\n",
       "      <th>goal_usd</th>\n",
       "      <th>blurb_length</th>\n",
       "      <th>name_length</th>\n",
       "      <th>success</th>\n",
       "      <th>US based</th>\n",
       "      <th>main_category_comics</th>\n",
       "      <th>main_category_crafts</th>\n",
       "      <th>main_category_dance</th>\n",
       "      <th>main_category_design</th>\n",
       "      <th>...</th>\n",
       "      <th>main_category_games</th>\n",
       "      <th>main_category_journalism</th>\n",
       "      <th>main_category_music</th>\n",
       "      <th>main_category_photography</th>\n",
       "      <th>main_category_publishing</th>\n",
       "      <th>main_category_technology</th>\n",
       "      <th>main_category_theater</th>\n",
       "      <th>start_Q_Q2</th>\n",
       "      <th>start_Q_Q3</th>\n",
       "      <th>start_Q_Q4</th>\n",
       "    </tr>\n",
       "  </thead>\n",
       "  <tbody>\n",
       "    <tr>\n",
       "      <th>0</th>\n",
       "      <td>0.163043</td>\n",
       "      <td>0.000015</td>\n",
       "      <td>0.382353</td>\n",
       "      <td>0.230769</td>\n",
       "      <td>1.0</td>\n",
       "      <td>1.0</td>\n",
       "      <td>0.0</td>\n",
       "      <td>0.0</td>\n",
       "      <td>0.0</td>\n",
       "      <td>0.0</td>\n",
       "      <td>...</td>\n",
       "      <td>1.0</td>\n",
       "      <td>0.0</td>\n",
       "      <td>0.0</td>\n",
       "      <td>0.0</td>\n",
       "      <td>0.0</td>\n",
       "      <td>0.0</td>\n",
       "      <td>0.0</td>\n",
       "      <td>0.0</td>\n",
       "      <td>0.0</td>\n",
       "      <td>1.0</td>\n",
       "    </tr>\n",
       "    <tr>\n",
       "      <th>1</th>\n",
       "      <td>0.315217</td>\n",
       "      <td>0.000030</td>\n",
       "      <td>0.676471</td>\n",
       "      <td>0.269231</td>\n",
       "      <td>1.0</td>\n",
       "      <td>0.0</td>\n",
       "      <td>1.0</td>\n",
       "      <td>0.0</td>\n",
       "      <td>0.0</td>\n",
       "      <td>0.0</td>\n",
       "      <td>...</td>\n",
       "      <td>0.0</td>\n",
       "      <td>0.0</td>\n",
       "      <td>0.0</td>\n",
       "      <td>0.0</td>\n",
       "      <td>0.0</td>\n",
       "      <td>0.0</td>\n",
       "      <td>0.0</td>\n",
       "      <td>0.0</td>\n",
       "      <td>1.0</td>\n",
       "      <td>0.0</td>\n",
       "    </tr>\n",
       "    <tr>\n",
       "      <th>2</th>\n",
       "      <td>0.315217</td>\n",
       "      <td>0.000009</td>\n",
       "      <td>0.588235</td>\n",
       "      <td>0.230769</td>\n",
       "      <td>1.0</td>\n",
       "      <td>1.0</td>\n",
       "      <td>0.0</td>\n",
       "      <td>0.0</td>\n",
       "      <td>0.0</td>\n",
       "      <td>0.0</td>\n",
       "      <td>...</td>\n",
       "      <td>0.0</td>\n",
       "      <td>0.0</td>\n",
       "      <td>0.0</td>\n",
       "      <td>0.0</td>\n",
       "      <td>0.0</td>\n",
       "      <td>0.0</td>\n",
       "      <td>0.0</td>\n",
       "      <td>1.0</td>\n",
       "      <td>0.0</td>\n",
       "      <td>0.0</td>\n",
       "    </tr>\n",
       "    <tr>\n",
       "      <th>3</th>\n",
       "      <td>0.478261</td>\n",
       "      <td>0.000027</td>\n",
       "      <td>0.411765</td>\n",
       "      <td>0.192308</td>\n",
       "      <td>1.0</td>\n",
       "      <td>1.0</td>\n",
       "      <td>0.0</td>\n",
       "      <td>0.0</td>\n",
       "      <td>0.0</td>\n",
       "      <td>0.0</td>\n",
       "      <td>...</td>\n",
       "      <td>0.0</td>\n",
       "      <td>0.0</td>\n",
       "      <td>1.0</td>\n",
       "      <td>0.0</td>\n",
       "      <td>0.0</td>\n",
       "      <td>0.0</td>\n",
       "      <td>0.0</td>\n",
       "      <td>0.0</td>\n",
       "      <td>1.0</td>\n",
       "      <td>0.0</td>\n",
       "    </tr>\n",
       "    <tr>\n",
       "      <th>4</th>\n",
       "      <td>0.641304</td>\n",
       "      <td>0.000232</td>\n",
       "      <td>0.411765</td>\n",
       "      <td>0.115385</td>\n",
       "      <td>1.0</td>\n",
       "      <td>1.0</td>\n",
       "      <td>0.0</td>\n",
       "      <td>0.0</td>\n",
       "      <td>0.0</td>\n",
       "      <td>0.0</td>\n",
       "      <td>...</td>\n",
       "      <td>0.0</td>\n",
       "      <td>0.0</td>\n",
       "      <td>0.0</td>\n",
       "      <td>0.0</td>\n",
       "      <td>0.0</td>\n",
       "      <td>1.0</td>\n",
       "      <td>0.0</td>\n",
       "      <td>0.0</td>\n",
       "      <td>0.0</td>\n",
       "      <td>1.0</td>\n",
       "    </tr>\n",
       "  </tbody>\n",
       "</table>\n",
       "<p>5 rows × 23 columns</p>\n",
       "</div>"
      ],
      "text/plain": [
       "   duration  goal_usd  blurb_length  name_length  success  US based  \\\n",
       "0  0.163043  0.000015      0.382353     0.230769      1.0       1.0   \n",
       "1  0.315217  0.000030      0.676471     0.269231      1.0       0.0   \n",
       "2  0.315217  0.000009      0.588235     0.230769      1.0       1.0   \n",
       "3  0.478261  0.000027      0.411765     0.192308      1.0       1.0   \n",
       "4  0.641304  0.000232      0.411765     0.115385      1.0       1.0   \n",
       "\n",
       "   main_category_comics  main_category_crafts  main_category_dance  \\\n",
       "0                   0.0                   0.0                  0.0   \n",
       "1                   1.0                   0.0                  0.0   \n",
       "2                   0.0                   0.0                  0.0   \n",
       "3                   0.0                   0.0                  0.0   \n",
       "4                   0.0                   0.0                  0.0   \n",
       "\n",
       "   main_category_design  ...  main_category_games  main_category_journalism  \\\n",
       "0                   0.0  ...                  1.0                       0.0   \n",
       "1                   0.0  ...                  0.0                       0.0   \n",
       "2                   0.0  ...                  0.0                       0.0   \n",
       "3                   0.0  ...                  0.0                       0.0   \n",
       "4                   0.0  ...                  0.0                       0.0   \n",
       "\n",
       "   main_category_music  main_category_photography  main_category_publishing  \\\n",
       "0                  0.0                        0.0                       0.0   \n",
       "1                  0.0                        0.0                       0.0   \n",
       "2                  0.0                        0.0                       0.0   \n",
       "3                  1.0                        0.0                       0.0   \n",
       "4                  0.0                        0.0                       0.0   \n",
       "\n",
       "   main_category_technology  main_category_theater  start_Q_Q2  start_Q_Q3  \\\n",
       "0                       0.0                    0.0         0.0         0.0   \n",
       "1                       0.0                    0.0         0.0         1.0   \n",
       "2                       0.0                    0.0         1.0         0.0   \n",
       "3                       0.0                    0.0         0.0         1.0   \n",
       "4                       1.0                    0.0         0.0         0.0   \n",
       "\n",
       "   start_Q_Q4  \n",
       "0         1.0  \n",
       "1         0.0  \n",
       "2         0.0  \n",
       "3         0.0  \n",
       "4         1.0  \n",
       "\n",
       "[5 rows x 23 columns]"
      ]
     },
     "execution_count": 2,
     "metadata": {},
     "output_type": "execute_result"
    }
   ],
   "source": [
    "df = pd.read_csv('./data/processed_data(by_quarter).csv')\n",
    "df.drop(['Unnamed: 0', 'usd_pledged'], axis = 1, inplace = True)\n",
    "df.head()"
   ]
  },
  {
   "cell_type": "code",
   "execution_count": 3,
   "metadata": {},
   "outputs": [
    {
     "data": {
      "text/plain": [
       "(170730, 23)"
      ]
     },
     "execution_count": 3,
     "metadata": {},
     "output_type": "execute_result"
    }
   ],
   "source": [
    "df.shape"
   ]
  },
  {
   "cell_type": "markdown",
   "metadata": {},
   "source": [
    "## Below cell: read the raw dataframe so that there's columns for Main and Sub category"
   ]
  },
  {
   "cell_type": "code",
   "execution_count": 4,
   "metadata": {},
   "outputs": [
    {
     "data": {
      "text/html": [
       "<div>\n",
       "<style scoped>\n",
       "    .dataframe tbody tr th:only-of-type {\n",
       "        vertical-align: middle;\n",
       "    }\n",
       "\n",
       "    .dataframe tbody tr th {\n",
       "        vertical-align: top;\n",
       "    }\n",
       "\n",
       "    .dataframe thead th {\n",
       "        text-align: right;\n",
       "    }\n",
       "</style>\n",
       "<table border=\"1\" class=\"dataframe\">\n",
       "  <thead>\n",
       "    <tr style=\"text-align: right;\">\n",
       "      <th></th>\n",
       "      <th>id</th>\n",
       "      <th>name</th>\n",
       "      <th>currency</th>\n",
       "      <th>main_category</th>\n",
       "      <th>sub_category</th>\n",
       "      <th>launched_at</th>\n",
       "      <th>deadline</th>\n",
       "      <th>duration</th>\n",
       "      <th>goal_usd</th>\n",
       "      <th>city</th>\n",
       "      <th>state</th>\n",
       "      <th>country</th>\n",
       "      <th>blurb_length</th>\n",
       "      <th>name_length</th>\n",
       "      <th>status</th>\n",
       "      <th>start_month</th>\n",
       "      <th>end_month</th>\n",
       "      <th>start_Q</th>\n",
       "      <th>end_Q</th>\n",
       "      <th>usd_pledged</th>\n",
       "    </tr>\n",
       "  </thead>\n",
       "  <tbody>\n",
       "    <tr>\n",
       "      <th>0</th>\n",
       "      <td>1687733153</td>\n",
       "      <td>Socks of Speed and Socks of Elvenkind</td>\n",
       "      <td>USD</td>\n",
       "      <td>games</td>\n",
       "      <td>Tabletop Games</td>\n",
       "      <td>2018-10-30 20:00:02</td>\n",
       "      <td>2018-11-15 17:59:00</td>\n",
       "      <td>16.0</td>\n",
       "      <td>2000.00000</td>\n",
       "      <td>Menasha</td>\n",
       "      <td>WI</td>\n",
       "      <td>US</td>\n",
       "      <td>14</td>\n",
       "      <td>7</td>\n",
       "      <td>successful</td>\n",
       "      <td>10</td>\n",
       "      <td>11</td>\n",
       "      <td>Q4</td>\n",
       "      <td>Q4</td>\n",
       "      <td>6061.00000</td>\n",
       "    </tr>\n",
       "    <tr>\n",
       "      <th>1</th>\n",
       "      <td>227936657</td>\n",
       "      <td>Power Punch Boot Camp: An All-Ages Graphic Novel</td>\n",
       "      <td>GBP</td>\n",
       "      <td>comics</td>\n",
       "      <td>Comic Books</td>\n",
       "      <td>2018-08-06 10:00:43</td>\n",
       "      <td>2018-09-05 10:00:43</td>\n",
       "      <td>30.0</td>\n",
       "      <td>3870.99771</td>\n",
       "      <td>Shepperton</td>\n",
       "      <td>England</td>\n",
       "      <td>GB</td>\n",
       "      <td>24</td>\n",
       "      <td>8</td>\n",
       "      <td>successful</td>\n",
       "      <td>8</td>\n",
       "      <td>9</td>\n",
       "      <td>Q3</td>\n",
       "      <td>Q3</td>\n",
       "      <td>3914.50512</td>\n",
       "    </tr>\n",
       "    <tr>\n",
       "      <th>2</th>\n",
       "      <td>454186436</td>\n",
       "      <td>Live Printing with SX8: \"Squeegee Pulp Up\"</td>\n",
       "      <td>USD</td>\n",
       "      <td>fashion</td>\n",
       "      <td>Apparel</td>\n",
       "      <td>2017-06-09 15:41:03</td>\n",
       "      <td>2017-07-09 15:41:03</td>\n",
       "      <td>30.0</td>\n",
       "      <td>1100.00000</td>\n",
       "      <td>Manhattan</td>\n",
       "      <td>NY</td>\n",
       "      <td>US</td>\n",
       "      <td>21</td>\n",
       "      <td>7</td>\n",
       "      <td>successful</td>\n",
       "      <td>6</td>\n",
       "      <td>7</td>\n",
       "      <td>Q2</td>\n",
       "      <td>Q3</td>\n",
       "      <td>1110.00000</td>\n",
       "    </tr>\n",
       "    <tr>\n",
       "      <th>3</th>\n",
       "      <td>629469071</td>\n",
       "      <td>Lost Dog Street Band's Next Album</td>\n",
       "      <td>USD</td>\n",
       "      <td>music</td>\n",
       "      <td>Country &amp; Folk</td>\n",
       "      <td>2014-09-25 18:46:01</td>\n",
       "      <td>2014-11-10 06:00:00</td>\n",
       "      <td>45.0</td>\n",
       "      <td>3500.00000</td>\n",
       "      <td>Nashville</td>\n",
       "      <td>TN</td>\n",
       "      <td>US</td>\n",
       "      <td>15</td>\n",
       "      <td>6</td>\n",
       "      <td>successful</td>\n",
       "      <td>9</td>\n",
       "      <td>11</td>\n",
       "      <td>Q3</td>\n",
       "      <td>Q4</td>\n",
       "      <td>4807.00000</td>\n",
       "    </tr>\n",
       "    <tr>\n",
       "      <th>4</th>\n",
       "      <td>183973060</td>\n",
       "      <td>Qto-X, a Tiny Lantern</td>\n",
       "      <td>USD</td>\n",
       "      <td>technology</td>\n",
       "      <td>Gadgets</td>\n",
       "      <td>2016-11-28 16:35:11</td>\n",
       "      <td>2017-01-27 16:35:11</td>\n",
       "      <td>60.0</td>\n",
       "      <td>30000.00000</td>\n",
       "      <td>Troy</td>\n",
       "      <td>MI</td>\n",
       "      <td>US</td>\n",
       "      <td>15</td>\n",
       "      <td>4</td>\n",
       "      <td>successful</td>\n",
       "      <td>11</td>\n",
       "      <td>1</td>\n",
       "      <td>Q4</td>\n",
       "      <td>Q1</td>\n",
       "      <td>40368.00000</td>\n",
       "    </tr>\n",
       "  </tbody>\n",
       "</table>\n",
       "</div>"
      ],
      "text/plain": [
       "           id                                              name currency  \\\n",
       "0  1687733153             Socks of Speed and Socks of Elvenkind      USD   \n",
       "1   227936657  Power Punch Boot Camp: An All-Ages Graphic Novel      GBP   \n",
       "2   454186436        Live Printing with SX8: \"Squeegee Pulp Up\"      USD   \n",
       "3   629469071                 Lost Dog Street Band's Next Album      USD   \n",
       "4   183973060                             Qto-X, a Tiny Lantern      USD   \n",
       "\n",
       "  main_category    sub_category          launched_at             deadline  \\\n",
       "0         games  Tabletop Games  2018-10-30 20:00:02  2018-11-15 17:59:00   \n",
       "1        comics     Comic Books  2018-08-06 10:00:43  2018-09-05 10:00:43   \n",
       "2       fashion         Apparel  2017-06-09 15:41:03  2017-07-09 15:41:03   \n",
       "3         music  Country & Folk  2014-09-25 18:46:01  2014-11-10 06:00:00   \n",
       "4    technology         Gadgets  2016-11-28 16:35:11  2017-01-27 16:35:11   \n",
       "\n",
       "   duration     goal_usd        city    state country  blurb_length  \\\n",
       "0      16.0   2000.00000     Menasha       WI      US            14   \n",
       "1      30.0   3870.99771  Shepperton  England      GB            24   \n",
       "2      30.0   1100.00000   Manhattan       NY      US            21   \n",
       "3      45.0   3500.00000   Nashville       TN      US            15   \n",
       "4      60.0  30000.00000        Troy       MI      US            15   \n",
       "\n",
       "   name_length      status  start_month  end_month start_Q end_Q  usd_pledged  \n",
       "0            7  successful           10         11      Q4    Q4   6061.00000  \n",
       "1            8  successful            8          9      Q3    Q3   3914.50512  \n",
       "2            7  successful            6          7      Q2    Q3   1110.00000  \n",
       "3            6  successful            9         11      Q3    Q4   4807.00000  \n",
       "4            4  successful           11          1      Q4    Q1  40368.00000  "
      ]
     },
     "execution_count": 4,
     "metadata": {},
     "output_type": "execute_result"
    }
   ],
   "source": [
    "df_raw = pd.read_csv('./data/Kickstarter_projects_Feb19.csv')\n",
    "df_raw.head()"
   ]
  },
  {
   "cell_type": "markdown",
   "metadata": {},
   "source": [
    "### Below cell: Dropping duplicates from raw dataframe so the rows from cleanup dataframe and raw dataframe match up"
   ]
  },
  {
   "cell_type": "code",
   "execution_count": 5,
   "metadata": {},
   "outputs": [],
   "source": [
    "df_raw.drop_duplicates(keep='first', inplace = True)"
   ]
  },
  {
   "cell_type": "markdown",
   "metadata": {},
   "source": [
    "## Below cell:\n",
    "### 1. create a new column called main_sub_category that is a merge of main_category and sub_category\n",
    "### 2. OneHotEncode the \"main_sub_category\" column\n",
    "### 3. Name the newly encoded columns (169 of them) by OHE.get_feature_names()\n",
    "### 4. Merge the encoded columns with the cleanup dateframe from Stephy and Sanjay"
   ]
  },
  {
   "cell_type": "code",
   "execution_count": 6,
   "metadata": {},
   "outputs": [],
   "source": [
    "# Making a new column from main_category and sub_category,  this way, we preserve the uniqueness of each sub_category, since 'Comedy' sub_category appears in 2 main_category(s)\n",
    "df_raw['main_sub_category'] = df_raw['main_category'] + ' ' + df_raw['sub_category']\n",
    "\n",
    "from sklearn.preprocessing import OneHotEncoder\n",
    "OHE = OneHotEncoder(sparse = False)   # add drop = 'first'  if you wanna drop first encoded column\n",
    "x = OHE.fit_transform(df_raw[['main_sub_category']])\n",
    "\n",
    "# Below, I am naming the new encoded columns using the OHE.get_feature_names() method since in the documentation example, the appearance of the encoded columns are sorted, and get_feature_names is also sorted, and the dimension matches up.\n",
    "\n",
    "df_one_hot_cat = pd.DataFrame(x, columns = OHE.get_feature_names())\n",
    "df_final = pd.concat([df,df_one_hot_cat], axis = 1)"
   ]
  },
  {
   "cell_type": "code",
   "execution_count": 7,
   "metadata": {},
   "outputs": [
    {
     "data": {
      "text/html": [
       "<div>\n",
       "<style scoped>\n",
       "    .dataframe tbody tr th:only-of-type {\n",
       "        vertical-align: middle;\n",
       "    }\n",
       "\n",
       "    .dataframe tbody tr th {\n",
       "        vertical-align: top;\n",
       "    }\n",
       "\n",
       "    .dataframe thead th {\n",
       "        text-align: right;\n",
       "    }\n",
       "</style>\n",
       "<table border=\"1\" class=\"dataframe\">\n",
       "  <thead>\n",
       "    <tr style=\"text-align: right;\">\n",
       "      <th></th>\n",
       "      <th>duration</th>\n",
       "      <th>goal_usd</th>\n",
       "      <th>blurb_length</th>\n",
       "      <th>name_length</th>\n",
       "      <th>success</th>\n",
       "      <th>US based</th>\n",
       "      <th>main_category_comics</th>\n",
       "      <th>main_category_crafts</th>\n",
       "      <th>main_category_dance</th>\n",
       "      <th>main_category_design</th>\n",
       "      <th>...</th>\n",
       "      <th>x0_technology Wearables</th>\n",
       "      <th>x0_technology Web</th>\n",
       "      <th>x0_theater Comedy</th>\n",
       "      <th>x0_theater Experimental</th>\n",
       "      <th>x0_theater Festivals</th>\n",
       "      <th>x0_theater Immersive</th>\n",
       "      <th>x0_theater Musical</th>\n",
       "      <th>x0_theater Plays</th>\n",
       "      <th>x0_theater Spaces</th>\n",
       "      <th>x0_theater Theater</th>\n",
       "    </tr>\n",
       "  </thead>\n",
       "  <tbody>\n",
       "    <tr>\n",
       "      <th>0</th>\n",
       "      <td>0.163043</td>\n",
       "      <td>0.000015</td>\n",
       "      <td>0.382353</td>\n",
       "      <td>0.230769</td>\n",
       "      <td>1.0</td>\n",
       "      <td>1.0</td>\n",
       "      <td>0.0</td>\n",
       "      <td>0.0</td>\n",
       "      <td>0.0</td>\n",
       "      <td>0.0</td>\n",
       "      <td>...</td>\n",
       "      <td>0.0</td>\n",
       "      <td>0.0</td>\n",
       "      <td>0.0</td>\n",
       "      <td>0.0</td>\n",
       "      <td>0.0</td>\n",
       "      <td>0.0</td>\n",
       "      <td>0.0</td>\n",
       "      <td>0.0</td>\n",
       "      <td>0.0</td>\n",
       "      <td>0.0</td>\n",
       "    </tr>\n",
       "    <tr>\n",
       "      <th>1</th>\n",
       "      <td>0.315217</td>\n",
       "      <td>0.000030</td>\n",
       "      <td>0.676471</td>\n",
       "      <td>0.269231</td>\n",
       "      <td>1.0</td>\n",
       "      <td>0.0</td>\n",
       "      <td>1.0</td>\n",
       "      <td>0.0</td>\n",
       "      <td>0.0</td>\n",
       "      <td>0.0</td>\n",
       "      <td>...</td>\n",
       "      <td>0.0</td>\n",
       "      <td>0.0</td>\n",
       "      <td>0.0</td>\n",
       "      <td>0.0</td>\n",
       "      <td>0.0</td>\n",
       "      <td>0.0</td>\n",
       "      <td>0.0</td>\n",
       "      <td>0.0</td>\n",
       "      <td>0.0</td>\n",
       "      <td>0.0</td>\n",
       "    </tr>\n",
       "    <tr>\n",
       "      <th>2</th>\n",
       "      <td>0.315217</td>\n",
       "      <td>0.000009</td>\n",
       "      <td>0.588235</td>\n",
       "      <td>0.230769</td>\n",
       "      <td>1.0</td>\n",
       "      <td>1.0</td>\n",
       "      <td>0.0</td>\n",
       "      <td>0.0</td>\n",
       "      <td>0.0</td>\n",
       "      <td>0.0</td>\n",
       "      <td>...</td>\n",
       "      <td>0.0</td>\n",
       "      <td>0.0</td>\n",
       "      <td>0.0</td>\n",
       "      <td>0.0</td>\n",
       "      <td>0.0</td>\n",
       "      <td>0.0</td>\n",
       "      <td>0.0</td>\n",
       "      <td>0.0</td>\n",
       "      <td>0.0</td>\n",
       "      <td>0.0</td>\n",
       "    </tr>\n",
       "    <tr>\n",
       "      <th>3</th>\n",
       "      <td>0.478261</td>\n",
       "      <td>0.000027</td>\n",
       "      <td>0.411765</td>\n",
       "      <td>0.192308</td>\n",
       "      <td>1.0</td>\n",
       "      <td>1.0</td>\n",
       "      <td>0.0</td>\n",
       "      <td>0.0</td>\n",
       "      <td>0.0</td>\n",
       "      <td>0.0</td>\n",
       "      <td>...</td>\n",
       "      <td>0.0</td>\n",
       "      <td>0.0</td>\n",
       "      <td>0.0</td>\n",
       "      <td>0.0</td>\n",
       "      <td>0.0</td>\n",
       "      <td>0.0</td>\n",
       "      <td>0.0</td>\n",
       "      <td>0.0</td>\n",
       "      <td>0.0</td>\n",
       "      <td>0.0</td>\n",
       "    </tr>\n",
       "    <tr>\n",
       "      <th>4</th>\n",
       "      <td>0.641304</td>\n",
       "      <td>0.000232</td>\n",
       "      <td>0.411765</td>\n",
       "      <td>0.115385</td>\n",
       "      <td>1.0</td>\n",
       "      <td>1.0</td>\n",
       "      <td>0.0</td>\n",
       "      <td>0.0</td>\n",
       "      <td>0.0</td>\n",
       "      <td>0.0</td>\n",
       "      <td>...</td>\n",
       "      <td>0.0</td>\n",
       "      <td>0.0</td>\n",
       "      <td>0.0</td>\n",
       "      <td>0.0</td>\n",
       "      <td>0.0</td>\n",
       "      <td>0.0</td>\n",
       "      <td>0.0</td>\n",
       "      <td>0.0</td>\n",
       "      <td>0.0</td>\n",
       "      <td>0.0</td>\n",
       "    </tr>\n",
       "  </tbody>\n",
       "</table>\n",
       "<p>5 rows × 192 columns</p>\n",
       "</div>"
      ],
      "text/plain": [
       "   duration  goal_usd  blurb_length  name_length  success  US based  \\\n",
       "0  0.163043  0.000015      0.382353     0.230769      1.0       1.0   \n",
       "1  0.315217  0.000030      0.676471     0.269231      1.0       0.0   \n",
       "2  0.315217  0.000009      0.588235     0.230769      1.0       1.0   \n",
       "3  0.478261  0.000027      0.411765     0.192308      1.0       1.0   \n",
       "4  0.641304  0.000232      0.411765     0.115385      1.0       1.0   \n",
       "\n",
       "   main_category_comics  main_category_crafts  main_category_dance  \\\n",
       "0                   0.0                   0.0                  0.0   \n",
       "1                   1.0                   0.0                  0.0   \n",
       "2                   0.0                   0.0                  0.0   \n",
       "3                   0.0                   0.0                  0.0   \n",
       "4                   0.0                   0.0                  0.0   \n",
       "\n",
       "   main_category_design  ...  x0_technology Wearables  x0_technology Web  \\\n",
       "0                   0.0  ...                      0.0                0.0   \n",
       "1                   0.0  ...                      0.0                0.0   \n",
       "2                   0.0  ...                      0.0                0.0   \n",
       "3                   0.0  ...                      0.0                0.0   \n",
       "4                   0.0  ...                      0.0                0.0   \n",
       "\n",
       "   x0_theater Comedy  x0_theater Experimental  x0_theater Festivals  \\\n",
       "0                0.0                      0.0                   0.0   \n",
       "1                0.0                      0.0                   0.0   \n",
       "2                0.0                      0.0                   0.0   \n",
       "3                0.0                      0.0                   0.0   \n",
       "4                0.0                      0.0                   0.0   \n",
       "\n",
       "   x0_theater Immersive  x0_theater Musical  x0_theater Plays  \\\n",
       "0                   0.0                 0.0               0.0   \n",
       "1                   0.0                 0.0               0.0   \n",
       "2                   0.0                 0.0               0.0   \n",
       "3                   0.0                 0.0               0.0   \n",
       "4                   0.0                 0.0               0.0   \n",
       "\n",
       "   x0_theater Spaces  x0_theater Theater  \n",
       "0                0.0                 0.0  \n",
       "1                0.0                 0.0  \n",
       "2                0.0                 0.0  \n",
       "3                0.0                 0.0  \n",
       "4                0.0                 0.0  \n",
       "\n",
       "[5 rows x 192 columns]"
      ]
     },
     "execution_count": 7,
     "metadata": {},
     "output_type": "execute_result"
    }
   ],
   "source": [
    "df_final.head()"
   ]
  },
  {
   "cell_type": "code",
   "execution_count": 8,
   "metadata": {},
   "outputs": [
    {
     "data": {
      "text/plain": [
       "Index(['duration', 'goal_usd', 'blurb_length', 'name_length', 'success',\n",
       "       'US based', 'main_category_comics', 'main_category_crafts',\n",
       "       'main_category_dance', 'main_category_design', 'main_category_fashion',\n",
       "       'main_category_film & video', 'main_category_food',\n",
       "       'main_category_games', 'main_category_journalism',\n",
       "       'main_category_music', 'main_category_photography',\n",
       "       'main_category_publishing', 'main_category_technology',\n",
       "       'main_category_theater', 'start_Q_Q2', 'start_Q_Q3', 'start_Q_Q4'],\n",
       "      dtype='object')"
      ]
     },
     "execution_count": 8,
     "metadata": {},
     "output_type": "execute_result"
    }
   ],
   "source": [
    "df.columns"
   ]
  },
  {
   "cell_type": "markdown",
   "metadata": {},
   "source": [
    "## Below cell: Dropping the columns prefixed by \"main_category_\" so that there's only main_sub_category columns left for analysis"
   ]
  },
  {
   "cell_type": "code",
   "execution_count": 9,
   "metadata": {},
   "outputs": [],
   "source": [
    "df_final = df_final.drop(['main_category_comics', 'main_category_crafts',\n",
    "       'main_category_dance', 'main_category_design', 'main_category_fashion',\n",
    "       'main_category_film & video', 'main_category_food',\n",
    "       'main_category_games', 'main_category_journalism',\n",
    "       'main_category_music', 'main_category_photography',\n",
    "       'main_category_publishing', 'main_category_technology',\n",
    "       'main_category_theater'], axis = 1)"
   ]
  },
  {
   "cell_type": "markdown",
   "metadata": {},
   "source": [
    "## Below cell: No changes"
   ]
  },
  {
   "cell_type": "code",
   "execution_count": 10,
   "metadata": {},
   "outputs": [],
   "source": [
    "## Define function for performance result\n",
    "\n",
    "# Function to print KFold Cross validation performance on train set \n",
    "def KFoldresult_5fold(model, x_train, y_train, is_logreg):\n",
    "    accuracy = cross_val_score (model, x_train,y_train, cv=5)\n",
    "    print (model)\n",
    "    print (f'KFolds cross validation: \\n {accuracy} \\n')\n",
    "    print (f'Mean accuracy: \\n {accuracy.mean()}\\n')\n",
    "    print ('Coefficient of feature: \\n' )\n",
    "    if is_logreg:\n",
    "        for index, co in enumerate(model.coef_[0]):\n",
    "            print (f'Feature {index}: {co:.5f}')\n",
    "    else:\n",
    "        for index, co in enumerate(model.feature_importances_):\n",
    "            print (f'Feature {index}: {co:.5f}')\n",
    "    return accuracy\n",
    "\n",
    "# Function to return prediction and print prediction result on test set \n",
    "def predictionresult(model, x_test, y_test):\n",
    "    y_pred = model.predict(x_test)\n",
    "    print (f'Confusion_matrix: \\n {confusion_matrix(y_test, y_pred)} \\n')\n",
    "    print (f'Classification report: \\n {classification_report(y_test,y_pred)} \\n')\n",
    "    return y_pred\n",
    "\n",
    "# Function to print out Grid Search parameters: \n",
    "def gridsearch(model, parameters, X_train, y_train):\n",
    "    search = GridSearchCV(model, parameters, n_jobs=-1)\n",
    "    search.fit(x_train,y_train)\n",
    "    print(f'Parameter tested: {parameters}')\n",
    "    print(f'Best Score : {search.best_score_}')\n",
    "    print(f'Best parameters: {search.best_params_}')\n",
    "    return search\n",
    "\n",
    "def performace(y_ture, y_pred):\n",
    "    return [accuracy_score(y_ture, y_pred), recall_score(y_ture, y_pred), precision_score(y_ture, y_pred), f1_score(y_ture, y_pred)]"
   ]
  },
  {
   "cell_type": "markdown",
   "metadata": {},
   "source": [
    "## Below cell: splitting the \"new\" dataframe into train and test sets"
   ]
  },
  {
   "cell_type": "code",
   "execution_count": 11,
   "metadata": {},
   "outputs": [],
   "source": [
    "# Split train set and test set \n",
    "y_sub = df_final['success']\n",
    "x_sub = df_final.drop('success',axis=1)\n",
    "x_train_sub, x_test_sub, y_train_sub, y_test_sub = train_test_split(x_sub,y_sub,train_size = 0.8, random_state = 42) #shuffle = False that means no random "
   ]
  },
  {
   "cell_type": "code",
   "execution_count": 12,
   "metadata": {},
   "outputs": [],
   "source": [
    "# Split train set and test set \n",
    "y = df['success']\n",
    "x = df.drop('success',axis=1)\n",
    "x_train, x_test, y_train, y_test = train_test_split(x,y,train_size = 0.8, random_state = 42) #shuffle = False that means no random "
   ]
  },
  {
   "cell_type": "markdown",
   "metadata": {},
   "source": [
    "## Logistic Regression (log)\n",
    "#### -Develop model"
   ]
  },
  {
   "cell_type": "markdown",
   "metadata": {},
   "source": [
    "## Below cell: Log Regression with main_sub_category"
   ]
  },
  {
   "cell_type": "code",
   "execution_count": 13,
   "metadata": {},
   "outputs": [
    {
     "name": "stderr",
     "output_type": "stream",
     "text": [
      "/opt/anaconda3/lib/python3.8/site-packages/sklearn/linear_model/_logistic.py:762: ConvergenceWarning: lbfgs failed to converge (status=1):\n",
      "STOP: TOTAL NO. of ITERATIONS REACHED LIMIT.\n",
      "\n",
      "Increase the number of iterations (max_iter) or scale the data as shown in:\n",
      "    https://scikit-learn.org/stable/modules/preprocessing.html\n",
      "Please also refer to the documentation for alternative solver options:\n",
      "    https://scikit-learn.org/stable/modules/linear_model.html#logistic-regression\n",
      "  n_iter_i = _check_optimize_result(\n",
      "/opt/anaconda3/lib/python3.8/site-packages/sklearn/linear_model/_logistic.py:762: ConvergenceWarning: lbfgs failed to converge (status=1):\n",
      "STOP: TOTAL NO. of ITERATIONS REACHED LIMIT.\n",
      "\n",
      "Increase the number of iterations (max_iter) or scale the data as shown in:\n",
      "    https://scikit-learn.org/stable/modules/preprocessing.html\n",
      "Please also refer to the documentation for alternative solver options:\n",
      "    https://scikit-learn.org/stable/modules/linear_model.html#logistic-regression\n",
      "  n_iter_i = _check_optimize_result(\n",
      "/opt/anaconda3/lib/python3.8/site-packages/sklearn/linear_model/_logistic.py:762: ConvergenceWarning: lbfgs failed to converge (status=1):\n",
      "STOP: TOTAL NO. of ITERATIONS REACHED LIMIT.\n",
      "\n",
      "Increase the number of iterations (max_iter) or scale the data as shown in:\n",
      "    https://scikit-learn.org/stable/modules/preprocessing.html\n",
      "Please also refer to the documentation for alternative solver options:\n",
      "    https://scikit-learn.org/stable/modules/linear_model.html#logistic-regression\n",
      "  n_iter_i = _check_optimize_result(\n",
      "/opt/anaconda3/lib/python3.8/site-packages/sklearn/linear_model/_logistic.py:762: ConvergenceWarning: lbfgs failed to converge (status=1):\n",
      "STOP: TOTAL NO. of ITERATIONS REACHED LIMIT.\n",
      "\n",
      "Increase the number of iterations (max_iter) or scale the data as shown in:\n",
      "    https://scikit-learn.org/stable/modules/preprocessing.html\n",
      "Please also refer to the documentation for alternative solver options:\n",
      "    https://scikit-learn.org/stable/modules/linear_model.html#logistic-regression\n",
      "  n_iter_i = _check_optimize_result(\n",
      "/opt/anaconda3/lib/python3.8/site-packages/sklearn/linear_model/_logistic.py:762: ConvergenceWarning: lbfgs failed to converge (status=1):\n",
      "STOP: TOTAL NO. of ITERATIONS REACHED LIMIT.\n",
      "\n",
      "Increase the number of iterations (max_iter) or scale the data as shown in:\n",
      "    https://scikit-learn.org/stable/modules/preprocessing.html\n",
      "Please also refer to the documentation for alternative solver options:\n",
      "    https://scikit-learn.org/stable/modules/linear_model.html#logistic-regression\n",
      "  n_iter_i = _check_optimize_result(\n"
     ]
    },
    {
     "name": "stdout",
     "output_type": "stream",
     "text": [
      "LogisticRegression()\n",
      "KFolds cross validation: \n",
      " [0.74894754 0.75454845 0.74803236 0.75180291 0.75281886] \n",
      "\n",
      "Mean accuracy: \n",
      " 0.7512300239327945\n",
      "\n",
      "Coefficient of feature: \n",
      "\n",
      "Feature 0: -2.10884\n",
      "Feature 1: -3.14026\n",
      "Feature 2: -0.43843\n",
      "Feature 3: 2.57165\n",
      "Feature 4: 0.18005\n",
      "Feature 5: -0.01548\n",
      "Feature 6: -0.13093\n",
      "Feature 7: -0.05568\n",
      "Feature 8: 4.42095\n",
      "Feature 9: -0.53131\n",
      "Feature 10: -0.90006\n",
      "Feature 11: -1.02677\n",
      "Feature 12: 2.73056\n",
      "Feature 13: -0.40346\n",
      "Feature 14: -0.67757\n",
      "Feature 15: -0.46153\n",
      "Feature 16: -0.57652\n",
      "Feature 17: 0.26309\n",
      "Feature 18: -0.78786\n",
      "Feature 19: -1.01899\n",
      "Feature 20: -1.25054\n",
      "Feature 21: 0.80822\n",
      "Feature 22: 5.38521\n",
      "Feature 23: 3.88129\n",
      "Feature 24: -0.87948\n",
      "Feature 25: 0.07405\n",
      "Feature 26: -0.00248\n",
      "Feature 27: -2.15667\n",
      "Feature 28: 4.75094\n",
      "Feature 29: -1.48738\n",
      "Feature 30: -1.72681\n",
      "Feature 31: -1.58544\n",
      "Feature 32: -1.16926\n",
      "Feature 33: -0.41672\n",
      "Feature 34: -0.24667\n",
      "Feature 35: -1.58418\n",
      "Feature 36: -1.78386\n",
      "Feature 37: -0.91299\n",
      "Feature 38: -0.35409\n",
      "Feature 39: -0.97545\n",
      "Feature 40: -1.41994\n",
      "Feature 41: 4.92986\n",
      "Feature 42: 0.35758\n",
      "Feature 43: 0.78678\n",
      "Feature 44: -1.01443\n",
      "Feature 45: -0.73305\n",
      "Feature 46: -1.35533\n",
      "Feature 47: -0.80000\n",
      "Feature 48: 3.39257\n",
      "Feature 49: -0.75187\n",
      "Feature 50: -1.66438\n",
      "Feature 51: 5.13388\n",
      "Feature 52: 0.19684\n",
      "Feature 53: 0.75033\n",
      "Feature 54: 0.68012\n",
      "Feature 55: -1.74538\n",
      "Feature 56: -2.06718\n",
      "Feature 57: 3.38070\n",
      "Feature 58: -1.03085\n",
      "Feature 59: -1.29733\n",
      "Feature 60: -1.13458\n",
      "Feature 61: -1.82304\n",
      "Feature 62: -1.72753\n",
      "Feature 63: -1.18469\n",
      "Feature 64: -0.63996\n",
      "Feature 65: 5.42270\n",
      "Feature 66: -0.55824\n",
      "Feature 67: -1.19886\n",
      "Feature 68: -1.57408\n",
      "Feature 69: -0.71329\n",
      "Feature 70: -0.42047\n",
      "Feature 71: 3.69479\n",
      "Feature 72: -0.84047\n",
      "Feature 73: -0.94215\n",
      "Feature 74: -0.93377\n",
      "Feature 75: 1.68608\n",
      "Feature 76: -0.99132\n",
      "Feature 77: -0.73085\n",
      "Feature 78: 5.46111\n",
      "Feature 79: -1.89821\n",
      "Feature 80: -0.98359\n",
      "Feature 81: 0.60893\n",
      "Feature 82: -1.62241\n",
      "Feature 83: -1.48935\n",
      "Feature 84: -1.21129\n",
      "Feature 85: -1.11842\n",
      "Feature 86: -1.87092\n",
      "Feature 87: -1.94729\n",
      "Feature 88: -1.61742\n",
      "Feature 89: 4.13413\n",
      "Feature 90: -2.23475\n",
      "Feature 91: -1.62420\n",
      "Feature 92: -1.09750\n",
      "Feature 93: -1.09395\n",
      "Feature 94: -0.90026\n",
      "Feature 95: 2.41490\n",
      "Feature 96: -1.05604\n",
      "Feature 97: -1.80160\n",
      "Feature 98: -2.37124\n",
      "Feature 99: -0.18320\n",
      "Feature 100: -0.74630\n",
      "Feature 101: 5.11703\n",
      "Feature 102: 5.33633\n",
      "Feature 103: -1.08877\n",
      "Feature 104: 0.36793\n",
      "Feature 105: -1.81360\n",
      "Feature 106: -1.50394\n",
      "Feature 107: -2.15914\n",
      "Feature 108: -1.95552\n",
      "Feature 109: -0.48558\n",
      "Feature 110: 0.50183\n",
      "Feature 111: 0.52132\n",
      "Feature 112: -0.89718\n",
      "Feature 113: 5.27341\n",
      "Feature 114: -0.98882\n",
      "Feature 115: -0.60622\n",
      "Feature 116: -1.41871\n",
      "Feature 117: 5.26678\n",
      "Feature 118: 0.11033\n",
      "Feature 119: -0.41468\n",
      "Feature 120: -1.36644\n",
      "Feature 121: -0.44439\n",
      "Feature 122: 4.40161\n",
      "Feature 123: 0.37655\n",
      "Feature 124: -0.36749\n",
      "Feature 125: -1.36829\n",
      "Feature 126: 5.27086\n",
      "Feature 127: -0.55030\n",
      "Feature 128: -1.45963\n",
      "Feature 129: -0.54919\n",
      "Feature 130: -1.88657\n",
      "Feature 131: -1.23699\n",
      "Feature 132: -0.60050\n",
      "Feature 133: 4.38634\n",
      "Feature 134: -1.86989\n",
      "Feature 135: -1.62144\n",
      "Feature 136: 0.12404\n",
      "Feature 137: 0.13384\n",
      "Feature 138: -0.67554\n",
      "Feature 139: 5.23677\n",
      "Feature 140: -0.91788\n",
      "Feature 141: 5.28715\n",
      "Feature 142: -0.13155\n",
      "Feature 143: -0.38917\n",
      "Feature 144: 0.44591\n",
      "Feature 145: 5.24383\n",
      "Feature 146: -0.68760\n",
      "Feature 147: -0.95688\n",
      "Feature 148: 3.75480\n",
      "Feature 149: -0.58711\n",
      "Feature 150: -1.64995\n",
      "Feature 151: -1.58351\n",
      "Feature 152: -0.26518\n",
      "Feature 153: -0.80662\n",
      "Feature 154: -1.85546\n",
      "Feature 155: -0.42968\n",
      "Feature 156: -0.49132\n",
      "Feature 157: -1.02796\n",
      "Feature 158: -1.68495\n",
      "Feature 159: -0.62723\n",
      "Feature 160: -0.33499\n",
      "Feature 161: -1.06955\n",
      "Feature 162: -0.66499\n",
      "Feature 163: -1.98877\n",
      "Feature 164: -0.37468\n",
      "Feature 165: -0.73227\n",
      "Feature 166: 3.83306\n",
      "Feature 167: -0.88229\n",
      "Feature 168: -2.38470\n",
      "Feature 169: -0.11834\n",
      "Feature 170: 0.03997\n",
      "Feature 171: -0.03603\n",
      "Feature 172: -0.09586\n",
      "Feature 173: -0.30383\n",
      "Feature 174: -0.03771\n",
      "Feature 175: -0.54296\n",
      "Feature 176: 4.26191\n"
     ]
    },
    {
     "name": "stderr",
     "output_type": "stream",
     "text": [
      "/opt/anaconda3/lib/python3.8/site-packages/sklearn/linear_model/_logistic.py:762: ConvergenceWarning: lbfgs failed to converge (status=1):\n",
      "STOP: TOTAL NO. of ITERATIONS REACHED LIMIT.\n",
      "\n",
      "Increase the number of iterations (max_iter) or scale the data as shown in:\n",
      "    https://scikit-learn.org/stable/modules/preprocessing.html\n",
      "Please also refer to the documentation for alternative solver options:\n",
      "    https://scikit-learn.org/stable/modules/linear_model.html#logistic-regression\n",
      "  n_iter_i = _check_optimize_result(\n"
     ]
    },
    {
     "data": {
      "text/plain": [
       "array([0.74894754, 0.75454845, 0.74803236, 0.75180291, 0.75281886])"
      ]
     },
     "execution_count": 13,
     "metadata": {},
     "output_type": "execute_result"
    }
   ],
   "source": [
    "# Create model -log\n",
    "log = LogisticRegression()\n",
    "log.fit (x_train_sub,y_train_sub)\n",
    "\n",
    "KFoldresult_5fold(log, x_train_sub, y_train_sub, True)"
   ]
  },
  {
   "cell_type": "markdown",
   "metadata": {},
   "source": [
    "## Below cell: Log Regression with main_categories only"
   ]
  },
  {
   "cell_type": "code",
   "execution_count": 14,
   "metadata": {},
   "outputs": [
    {
     "name": "stdout",
     "output_type": "stream",
     "text": [
      "LogisticRegression()\n",
      "KFolds cross validation: \n",
      " [0.6541714  0.6577223  0.65995534 0.66555625 0.65708742] \n",
      "\n",
      "Mean accuracy: \n",
      " 0.658898540011138\n",
      "\n",
      "Coefficient of feature: \n",
      "\n",
      "Feature 0: -2.33870\n",
      "Feature 1: -7.30428\n",
      "Feature 2: -0.69410\n",
      "Feature 3: 3.07711\n",
      "Feature 4: 0.12142\n",
      "Feature 5: 1.15119\n",
      "Feature 6: -0.56764\n",
      "Feature 7: 1.15936\n",
      "Feature 8: 0.20551\n",
      "Feature 9: -0.11058\n",
      "Feature 10: 0.20994\n",
      "Feature 11: -1.09012\n",
      "Feature 12: 0.16395\n",
      "Feature 13: -1.04273\n",
      "Feature 14: 0.45077\n",
      "Feature 15: -0.52420\n",
      "Feature 16: 0.55926\n",
      "Feature 17: -0.85593\n",
      "Feature 18: 0.31217\n",
      "Feature 19: -0.02090\n",
      "Feature 20: -0.12587\n",
      "Feature 21: -0.00681\n"
     ]
    },
    {
     "data": {
      "text/plain": [
       "array([0.6541714 , 0.6577223 , 0.65995534, 0.66555625, 0.65708742])"
      ]
     },
     "execution_count": 14,
     "metadata": {},
     "output_type": "execute_result"
    }
   ],
   "source": [
    "# Create model -log\n",
    "log = LogisticRegression()\n",
    "log.fit (x_train,y_train)\n",
    "\n",
    "KFoldresult_5fold(log, x_train, y_train, True)"
   ]
  },
  {
   "cell_type": "markdown",
   "metadata": {},
   "source": [
    "## Below cell: Results with sub_category"
   ]
  },
  {
   "cell_type": "code",
   "execution_count": 15,
   "metadata": {},
   "outputs": [
    {
     "ename": "ValueError",
     "evalue": "X has 177 features per sample; expecting 22",
     "output_type": "error",
     "traceback": [
      "\u001b[0;31m---------------------------------------------------------------------------\u001b[0m",
      "\u001b[0;31mValueError\u001b[0m                                Traceback (most recent call last)",
      "\u001b[0;32m<ipython-input-15-454ebe7aac3c>\u001b[0m in \u001b[0;36m<module>\u001b[0;34m\u001b[0m\n\u001b[0;32m----> 1\u001b[0;31m \u001b[0mlog_y_predict_sub\u001b[0m \u001b[0;34m=\u001b[0m \u001b[0mpredictionresult\u001b[0m\u001b[0;34m(\u001b[0m\u001b[0mlog\u001b[0m\u001b[0;34m,\u001b[0m \u001b[0mx_test_sub\u001b[0m\u001b[0;34m,\u001b[0m \u001b[0my_test_sub\u001b[0m\u001b[0;34m)\u001b[0m\u001b[0;34m\u001b[0m\u001b[0;34m\u001b[0m\u001b[0m\n\u001b[0m",
      "\u001b[0;32m<ipython-input-10-05ab47dc9b68>\u001b[0m in \u001b[0;36mpredictionresult\u001b[0;34m(model, x_test, y_test)\u001b[0m\n\u001b[1;32m     18\u001b[0m \u001b[0;31m# Function to return prediction and print prediction result on test set\u001b[0m\u001b[0;34m\u001b[0m\u001b[0;34m\u001b[0m\u001b[0;34m\u001b[0m\u001b[0m\n\u001b[1;32m     19\u001b[0m \u001b[0;32mdef\u001b[0m \u001b[0mpredictionresult\u001b[0m\u001b[0;34m(\u001b[0m\u001b[0mmodel\u001b[0m\u001b[0;34m,\u001b[0m \u001b[0mx_test\u001b[0m\u001b[0;34m,\u001b[0m \u001b[0my_test\u001b[0m\u001b[0;34m)\u001b[0m\u001b[0;34m:\u001b[0m\u001b[0;34m\u001b[0m\u001b[0;34m\u001b[0m\u001b[0m\n\u001b[0;32m---> 20\u001b[0;31m     \u001b[0my_pred\u001b[0m \u001b[0;34m=\u001b[0m \u001b[0mmodel\u001b[0m\u001b[0;34m.\u001b[0m\u001b[0mpredict\u001b[0m\u001b[0;34m(\u001b[0m\u001b[0mx_test\u001b[0m\u001b[0;34m)\u001b[0m\u001b[0;34m\u001b[0m\u001b[0;34m\u001b[0m\u001b[0m\n\u001b[0m\u001b[1;32m     21\u001b[0m     \u001b[0mprint\u001b[0m \u001b[0;34m(\u001b[0m\u001b[0;34mf'Confusion_matrix: \\n {confusion_matrix(y_test, y_pred)} \\n'\u001b[0m\u001b[0;34m)\u001b[0m\u001b[0;34m\u001b[0m\u001b[0;34m\u001b[0m\u001b[0m\n\u001b[1;32m     22\u001b[0m     \u001b[0mprint\u001b[0m \u001b[0;34m(\u001b[0m\u001b[0;34mf'Classification report: \\n {classification_report(y_test,y_pred)} \\n'\u001b[0m\u001b[0;34m)\u001b[0m\u001b[0;34m\u001b[0m\u001b[0;34m\u001b[0m\u001b[0m\n",
      "\u001b[0;32m/opt/anaconda3/lib/python3.8/site-packages/sklearn/linear_model/_base.py\u001b[0m in \u001b[0;36mpredict\u001b[0;34m(self, X)\u001b[0m\n\u001b[1;32m    305\u001b[0m             \u001b[0mPredicted\u001b[0m \u001b[0;32mclass\u001b[0m \u001b[0mlabel\u001b[0m \u001b[0mper\u001b[0m \u001b[0msample\u001b[0m\u001b[0;34m.\u001b[0m\u001b[0;34m\u001b[0m\u001b[0;34m\u001b[0m\u001b[0m\n\u001b[1;32m    306\u001b[0m         \"\"\"\n\u001b[0;32m--> 307\u001b[0;31m         \u001b[0mscores\u001b[0m \u001b[0;34m=\u001b[0m \u001b[0mself\u001b[0m\u001b[0;34m.\u001b[0m\u001b[0mdecision_function\u001b[0m\u001b[0;34m(\u001b[0m\u001b[0mX\u001b[0m\u001b[0;34m)\u001b[0m\u001b[0;34m\u001b[0m\u001b[0;34m\u001b[0m\u001b[0m\n\u001b[0m\u001b[1;32m    308\u001b[0m         \u001b[0;32mif\u001b[0m \u001b[0mlen\u001b[0m\u001b[0;34m(\u001b[0m\u001b[0mscores\u001b[0m\u001b[0;34m.\u001b[0m\u001b[0mshape\u001b[0m\u001b[0;34m)\u001b[0m \u001b[0;34m==\u001b[0m \u001b[0;36m1\u001b[0m\u001b[0;34m:\u001b[0m\u001b[0;34m\u001b[0m\u001b[0;34m\u001b[0m\u001b[0m\n\u001b[1;32m    309\u001b[0m             \u001b[0mindices\u001b[0m \u001b[0;34m=\u001b[0m \u001b[0;34m(\u001b[0m\u001b[0mscores\u001b[0m \u001b[0;34m>\u001b[0m \u001b[0;36m0\u001b[0m\u001b[0;34m)\u001b[0m\u001b[0;34m.\u001b[0m\u001b[0mastype\u001b[0m\u001b[0;34m(\u001b[0m\u001b[0mnp\u001b[0m\u001b[0;34m.\u001b[0m\u001b[0mint\u001b[0m\u001b[0;34m)\u001b[0m\u001b[0;34m\u001b[0m\u001b[0;34m\u001b[0m\u001b[0m\n",
      "\u001b[0;32m/opt/anaconda3/lib/python3.8/site-packages/sklearn/linear_model/_base.py\u001b[0m in \u001b[0;36mdecision_function\u001b[0;34m(self, X)\u001b[0m\n\u001b[1;32m    284\u001b[0m         \u001b[0mn_features\u001b[0m \u001b[0;34m=\u001b[0m \u001b[0mself\u001b[0m\u001b[0;34m.\u001b[0m\u001b[0mcoef_\u001b[0m\u001b[0;34m.\u001b[0m\u001b[0mshape\u001b[0m\u001b[0;34m[\u001b[0m\u001b[0;36m1\u001b[0m\u001b[0;34m]\u001b[0m\u001b[0;34m\u001b[0m\u001b[0;34m\u001b[0m\u001b[0m\n\u001b[1;32m    285\u001b[0m         \u001b[0;32mif\u001b[0m \u001b[0mX\u001b[0m\u001b[0;34m.\u001b[0m\u001b[0mshape\u001b[0m\u001b[0;34m[\u001b[0m\u001b[0;36m1\u001b[0m\u001b[0;34m]\u001b[0m \u001b[0;34m!=\u001b[0m \u001b[0mn_features\u001b[0m\u001b[0;34m:\u001b[0m\u001b[0;34m\u001b[0m\u001b[0;34m\u001b[0m\u001b[0m\n\u001b[0;32m--> 286\u001b[0;31m             raise ValueError(\"X has %d features per sample; expecting %d\"\n\u001b[0m\u001b[1;32m    287\u001b[0m                              % (X.shape[1], n_features))\n\u001b[1;32m    288\u001b[0m \u001b[0;34m\u001b[0m\u001b[0m\n",
      "\u001b[0;31mValueError\u001b[0m: X has 177 features per sample; expecting 22"
     ]
    }
   ],
   "source": [
    "log_y_predict_sub = predictionresult(log, x_test_sub, y_test_sub)"
   ]
  },
  {
   "cell_type": "markdown",
   "metadata": {},
   "source": [
    "## Below cell: Results with main_category only"
   ]
  },
  {
   "cell_type": "code",
   "execution_count": null,
   "metadata": {},
   "outputs": [],
   "source": [
    "log_y_predict = predictionresult(log, x_test, y_test)"
   ]
  },
  {
   "cell_type": "markdown",
   "metadata": {},
   "source": [
    "#### -Optimizing hyperparameters"
   ]
  },
  {
   "cell_type": "markdown",
   "metadata": {},
   "source": [
    "## Below cell: optimizing the regressor trained by the sub_category dataframe"
   ]
  },
  {
   "cell_type": "code",
   "execution_count": null,
   "metadata": {},
   "outputs": [],
   "source": [
    "param = {'C':np.linspace(0.1,1,10), 'penalty': ['l1', 'l2']} \n",
    "gridsearch (log, param, x_train_sub, y_train_sub)"
   ]
  },
  {
   "cell_type": "markdown",
   "metadata": {},
   "source": [
    "## Below cell: no changes"
   ]
  },
  {
   "cell_type": "code",
   "execution_count": null,
   "metadata": {},
   "outputs": [],
   "source": [
    "param = {'C':np.linspace(0.1,1,10), 'penalty': ['l1', 'l2']} \n",
    "gridsearch (log, param, x_train, y_train)"
   ]
  },
  {
   "cell_type": "markdown",
   "metadata": {},
   "source": [
    "#### Apply the best parameters {'C': 1.0, 'penalty': 'l2'} \n",
    " - best parameters is same as default parameters for model 'log'"
   ]
  },
  {
   "cell_type": "markdown",
   "metadata": {},
   "source": [
    "## Random Forest Classifier (ranforest)\n",
    "#### -Develop model "
   ]
  },
  {
   "cell_type": "markdown",
   "metadata": {},
   "source": [
    "## Below cell: Random Forest with the sub_categories"
   ]
  },
  {
   "cell_type": "code",
   "execution_count": null,
   "metadata": {},
   "outputs": [],
   "source": [
    "ranforest = RandomForestClassifier(random_state = 42, n_jobs=-1)\n",
    "ranforest.fit (x_train_sub,y_train_sub)\n",
    "\n",
    "KFoldresult_5fold(ranforest, x_train_sub, y_train_sub, False)"
   ]
  },
  {
   "cell_type": "markdown",
   "metadata": {},
   "source": [
    "## Below cell: Random Forest with the main_categories"
   ]
  },
  {
   "cell_type": "code",
   "execution_count": null,
   "metadata": {},
   "outputs": [],
   "source": [
    "ranforest = RandomForestClassifier(random_state = 42, n_jobs=-1)\n",
    "ranforest.fit (x_train,y_train)\n",
    "\n",
    "KFoldresult_5fold(ranforest, x_train, y_train, False)"
   ]
  },
  {
   "cell_type": "markdown",
   "metadata": {},
   "source": [
    "## Below cell: Random Forest result with sub_categories"
   ]
  },
  {
   "cell_type": "code",
   "execution_count": null,
   "metadata": {},
   "outputs": [],
   "source": [
    "ranforest_y_predict = predictionresult(ranforest, x_test_sub, y_test_sub)"
   ]
  },
  {
   "cell_type": "markdown",
   "metadata": {},
   "source": [
    "## Below cell: Random Forest result with main_categories"
   ]
  },
  {
   "cell_type": "code",
   "execution_count": null,
   "metadata": {},
   "outputs": [],
   "source": [
    "ranforest_y_predict = predictionresult(ranforest, x_test, y_test)"
   ]
  },
  {
   "cell_type": "markdown",
   "metadata": {},
   "source": [
    "#### -Optimizing Hyperparameters"
   ]
  },
  {
   "cell_type": "markdown",
   "metadata": {},
   "source": [
    "## Below cell: Random Forest optimizing with sub_categories"
   ]
  },
  {
   "cell_type": "code",
   "execution_count": null,
   "metadata": {},
   "outputs": [],
   "source": [
    "param = {'max_depth': list(range(1,5))}\n",
    "gridsearch (ranforest, param, x_train_sub, y_train_sub)"
   ]
  },
  {
   "cell_type": "markdown",
   "metadata": {},
   "source": [
    "## Below cell: Random Forest optimizing with main_categories"
   ]
  },
  {
   "cell_type": "code",
   "execution_count": null,
   "metadata": {},
   "outputs": [],
   "source": [
    "param = {'max_depth': list(range(1,5))}\n",
    "gridsearch (ranforest, param, x_train, y_train)"
   ]
  },
  {
   "cell_type": "markdown",
   "metadata": {},
   "source": [
    "#### Apply the best parameters {'max_depth': 4}"
   ]
  },
  {
   "cell_type": "markdown",
   "metadata": {},
   "source": [
    "## Below cell: Applying to sub_categories"
   ]
  },
  {
   "cell_type": "code",
   "execution_count": null,
   "metadata": {},
   "outputs": [],
   "source": [
    "ranforest = RandomForestClassifier(max_depth=4, random_state = 42, n_jobs=-1)\n",
    "ranforest.fit (x_train_sub,y_train_sub)\n",
    "\n",
    "KFoldresult_5fold(ranforest, x_train_sub, y_train_sub, False)\n",
    "ranforest_y_predict = predictionresult(ranforest, x_test_sub, y_test_sub)"
   ]
  },
  {
   "cell_type": "markdown",
   "metadata": {},
   "source": [
    "## Below cell: Applying to main_categories"
   ]
  },
  {
   "cell_type": "code",
   "execution_count": null,
   "metadata": {},
   "outputs": [],
   "source": [
    "ranforest = RandomForestClassifier(max_depth=4, random_state = 42, n_jobs=-1)\n",
    "ranforest.fit (x_train,y_train)\n",
    "\n",
    "KFoldresult_5fold(ranforest, x_train, y_train, False)\n",
    "ranforest_y_predict = predictionresult(ranforest, x_test, y_test)"
   ]
  },
  {
   "cell_type": "markdown",
   "metadata": {},
   "source": [
    "## XG Boost\n",
    "#### -Develop model"
   ]
  },
  {
   "cell_type": "markdown",
   "metadata": {},
   "source": [
    "## XG Boost with sub_categories"
   ]
  },
  {
   "cell_type": "code",
   "execution_count": null,
   "metadata": {},
   "outputs": [],
   "source": [
    "xgmodel = XGBClassifier(use_label_encoder = False, eval_metric='mlogloss',n_jobs = -1 )\n",
    "xgmodel.fit (x_train_sub,y_train_sub)\n",
    "\n",
    "KFoldresult_5fold(xgmodel, x_train_sub, y_train_sub, False)"
   ]
  },
  {
   "cell_type": "markdown",
   "metadata": {},
   "source": [
    "## XG Boost with main_categories"
   ]
  },
  {
   "cell_type": "code",
   "execution_count": null,
   "metadata": {},
   "outputs": [],
   "source": [
    "xgmodel = XGBClassifier(use_label_encoder = False, eval_metric='mlogloss',n_jobs = -1 )\n",
    "xgmodel.fit (x_train,y_train)\n",
    "\n",
    "KFoldresult_5fold(xgmodel, x_train, y_train, False)"
   ]
  },
  {
   "cell_type": "markdown",
   "metadata": {},
   "source": [
    "## Below cell: XG Boost results with sub_categories"
   ]
  },
  {
   "cell_type": "code",
   "execution_count": null,
   "metadata": {},
   "outputs": [],
   "source": [
    "xgmodel_y_predict = predictionresult(xgmodel, x_test_sub, y_test_sub)"
   ]
  },
  {
   "cell_type": "markdown",
   "metadata": {},
   "source": [
    "## Below cell: XG Boost results with main_categories"
   ]
  },
  {
   "cell_type": "code",
   "execution_count": null,
   "metadata": {},
   "outputs": [],
   "source": [
    "xgmodel_y_predict = predictionresult(xgmodel, x_test, y_test)"
   ]
  },
  {
   "cell_type": "markdown",
   "metadata": {},
   "source": [
    "#### -Optimizing Hyperparameters"
   ]
  },
  {
   "cell_type": "markdown",
   "metadata": {},
   "source": [
    "## Optimizing with sub_categories (did not run, took took long)"
   ]
  },
  {
   "cell_type": "code",
   "execution_count": null,
   "metadata": {},
   "outputs": [],
   "source": [
    "param = {'max_depth': list(range(1,5))}\n",
    "gridsearch (xgmodel, param, x_train_sub, y_train_sub)"
   ]
  },
  {
   "cell_type": "markdown",
   "metadata": {},
   "source": [
    "## Optimizaing with main_categories"
   ]
  },
  {
   "cell_type": "code",
   "execution_count": null,
   "metadata": {},
   "outputs": [],
   "source": [
    "param = {'max_depth': list(range(1,5))}\n",
    "gridsearch (xgmodel, param, x_train, y_train)"
   ]
  },
  {
   "cell_type": "markdown",
   "metadata": {},
   "source": [
    "#### Apply the best parameters {'max_depth': 4}"
   ]
  },
  {
   "cell_type": "code",
   "execution_count": null,
   "metadata": {},
   "outputs": [],
   "source": [
    "xgmodel = XGBClassifier(use_label_encoder = False, eval_metric='mlogloss',n_jobs = -1, max_depth = 4)\n",
    "xgmodel.fit (x_train,y_train)\n",
    "\n",
    "KFoldresult_5fold(xgmodel, x_train, y_train, False)"
   ]
  },
  {
   "cell_type": "markdown",
   "metadata": {},
   "source": [
    "## Below cell: Prediction results with sub_categories"
   ]
  },
  {
   "cell_type": "code",
   "execution_count": null,
   "metadata": {},
   "outputs": [],
   "source": [
    "xgmodel_y_predict = predictionresult(xgmodel, x_test_sub, y_test_sub)"
   ]
  },
  {
   "cell_type": "markdown",
   "metadata": {},
   "source": [
    "## Below cell: Prediction results with main_categories"
   ]
  },
  {
   "cell_type": "code",
   "execution_count": null,
   "metadata": {},
   "outputs": [],
   "source": [
    "xgmodel_y_predict = predictionresult(xgmodel, x_test, y_test)"
   ]
  },
  {
   "cell_type": "markdown",
   "metadata": {},
   "source": [
    "## did not touch the following codes"
   ]
  },
  {
   "cell_type": "code",
   "execution_count": null,
   "metadata": {},
   "outputs": [],
   "source": [
    "log_score = performace(y_test, log_y_predict)\n",
    "rf_score = performace(y_test, ranforest_y_predict)\n",
    "xg_score = performace(y_test, xgmodel_y_predict)\n",
    "\n",
    "models_scores_table = pd.DataFrame({'Logistic Regression': log_score, 'Random Forest Classifier': rf_score, 'XGBoost':xg_score},\n",
    "                                    index=['Accuracy', 'Recall', 'Precision', 'F1 Score'])\n",
    "\n",
    "models_scores_table['Best Score'] = models_scores_table.idxmax(axis=1)\n",
    "\n",
    "models_scores_table"
   ]
  },
  {
   "cell_type": "code",
   "execution_count": null,
   "metadata": {},
   "outputs": [],
   "source": []
  },
  {
   "cell_type": "code",
   "execution_count": null,
   "metadata": {},
   "outputs": [],
   "source": []
  }
 ],
 "metadata": {
  "kernelspec": {
   "display_name": "Python 3",
   "language": "python",
   "name": "python3"
  },
  "language_info": {
   "codemirror_mode": {
    "name": "ipython",
    "version": 3
   },
   "file_extension": ".py",
   "mimetype": "text/x-python",
   "name": "python",
   "nbconvert_exporter": "python",
   "pygments_lexer": "ipython3",
   "version": "3.8.3"
  }
 },
 "nbformat": 4,
 "nbformat_minor": 2
}
